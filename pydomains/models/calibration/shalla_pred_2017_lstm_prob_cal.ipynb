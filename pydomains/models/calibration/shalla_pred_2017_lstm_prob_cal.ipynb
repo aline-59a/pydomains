{
 "cells": [
  {
   "cell_type": "code",
   "execution_count": 1,
   "metadata": {},
   "outputs": [
    {
     "data": {
      "text/html": [
       "<div>\n",
       "<style scoped>\n",
       "    .dataframe tbody tr th:only-of-type {\n",
       "        vertical-align: middle;\n",
       "    }\n",
       "\n",
       "    .dataframe tbody tr th {\n",
       "        vertical-align: top;\n",
       "    }\n",
       "\n",
       "    .dataframe thead th {\n",
       "        text-align: right;\n",
       "    }\n",
       "</style>\n",
       "<table border=\"1\" class=\"dataframe\">\n",
       "  <thead>\n",
       "    <tr style=\"text-align: right;\">\n",
       "      <th></th>\n",
       "      <th>domain</th>\n",
       "      <th>shalla_cat</th>\n",
       "    </tr>\n",
       "  </thead>\n",
       "  <tbody>\n",
       "    <tr>\n",
       "      <th>0</th>\n",
       "      <td>nicoleaniston.org</td>\n",
       "      <td>porn</td>\n",
       "    </tr>\n",
       "    <tr>\n",
       "      <th>1</th>\n",
       "      <td>gadiz.hotfire.net</td>\n",
       "      <td>porn</td>\n",
       "    </tr>\n",
       "    <tr>\n",
       "      <th>2</th>\n",
       "      <td>turismorural.com</td>\n",
       "      <td>recreation/travel</td>\n",
       "    </tr>\n",
       "    <tr>\n",
       "      <th>3</th>\n",
       "      <td>esfollandodondesea.blogspot.de</td>\n",
       "      <td>porn</td>\n",
       "    </tr>\n",
       "    <tr>\n",
       "      <th>4</th>\n",
       "      <td>oliebollen.com</td>\n",
       "      <td>shopping</td>\n",
       "    </tr>\n",
       "    <tr>\n",
       "      <th>...</th>\n",
       "      <td>...</td>\n",
       "      <td>...</td>\n",
       "    </tr>\n",
       "    <tr>\n",
       "      <th>1571537</th>\n",
       "      <td>divequest.co.uk</td>\n",
       "      <td>recreation/travel</td>\n",
       "    </tr>\n",
       "    <tr>\n",
       "      <th>1571538</th>\n",
       "      <td>wetholeshere.com</td>\n",
       "      <td>porn</td>\n",
       "    </tr>\n",
       "    <tr>\n",
       "      <th>1571539</th>\n",
       "      <td>teenbody.com</td>\n",
       "      <td>porn</td>\n",
       "    </tr>\n",
       "    <tr>\n",
       "      <th>1571540</th>\n",
       "      <td>sex-free-pic.net</td>\n",
       "      <td>porn</td>\n",
       "    </tr>\n",
       "    <tr>\n",
       "      <th>1571541</th>\n",
       "      <td>bicestervillage.com</td>\n",
       "      <td>shopping</td>\n",
       "    </tr>\n",
       "  </tbody>\n",
       "</table>\n",
       "<p>1571542 rows × 2 columns</p>\n",
       "</div>"
      ],
      "text/plain": [
       "                                 domain         shalla_cat\n",
       "0                     nicoleaniston.org               porn\n",
       "1                     gadiz.hotfire.net               porn\n",
       "2                      turismorural.com  recreation/travel\n",
       "3        esfollandodondesea.blogspot.de               porn\n",
       "4                        oliebollen.com           shopping\n",
       "...                                 ...                ...\n",
       "1571537                 divequest.co.uk  recreation/travel\n",
       "1571538                wetholeshere.com               porn\n",
       "1571539                    teenbody.com               porn\n",
       "1571540                sex-free-pic.net               porn\n",
       "1571541             bicestervillage.com           shopping\n",
       "\n",
       "[1571542 rows x 2 columns]"
      ]
     },
     "execution_count": 1,
     "metadata": {},
     "output_type": "execute_result"
    }
   ],
   "source": [
    "from __future__ import print_function\n",
    "\n",
    "import numpy as np\n",
    "import tensorflow as tf\n",
    "import pandas as pd\n",
    "from sklearn.feature_extraction.text import CountVectorizer\n",
    "from sklearn.model_selection import train_test_split\n",
    "from sklearn.metrics import classification_report,confusion_matrix\n",
    "\n",
    "# https://machinelearningmastery.com/reproducible-results-neural-networks-keras/\n",
    "np.random.seed(1)\n",
    "tf.random.set_seed(2)\n",
    "\n",
    "NGRAMS = 2\n",
    "FEATURE_LEN = 128\n",
    "EPOCHS = 15\n",
    "\n",
    "# Shalla\n",
    "df = pd.read_csv('../train-test/data/shalla_2017.csv.bz2')\n",
    "df"
   ]
  },
  {
   "cell_type": "code",
   "execution_count": 2,
   "metadata": {},
   "outputs": [
    {
     "data": {
      "text/html": [
       "<div>\n",
       "<style scoped>\n",
       "    .dataframe tbody tr th:only-of-type {\n",
       "        vertical-align: middle;\n",
       "    }\n",
       "\n",
       "    .dataframe tbody tr th {\n",
       "        vertical-align: top;\n",
       "    }\n",
       "\n",
       "    .dataframe thead th {\n",
       "        text-align: right;\n",
       "    }\n",
       "</style>\n",
       "<table border=\"1\" class=\"dataframe\">\n",
       "  <thead>\n",
       "    <tr style=\"text-align: right;\">\n",
       "      <th></th>\n",
       "      <th>domain</th>\n",
       "      <th>shalla_cat</th>\n",
       "      <th>cat_count</th>\n",
       "    </tr>\n",
       "  </thead>\n",
       "  <tbody>\n",
       "    <tr>\n",
       "      <th>0</th>\n",
       "      <td>nicoleaniston.org</td>\n",
       "      <td>porn</td>\n",
       "      <td>1</td>\n",
       "    </tr>\n",
       "    <tr>\n",
       "      <th>1</th>\n",
       "      <td>gadiz.hotfire.net</td>\n",
       "      <td>porn</td>\n",
       "      <td>1</td>\n",
       "    </tr>\n",
       "    <tr>\n",
       "      <th>2</th>\n",
       "      <td>turismorural.com</td>\n",
       "      <td>recreation/travel</td>\n",
       "      <td>1</td>\n",
       "    </tr>\n",
       "    <tr>\n",
       "      <th>3</th>\n",
       "      <td>esfollandodondesea.blogspot.de</td>\n",
       "      <td>porn</td>\n",
       "      <td>1</td>\n",
       "    </tr>\n",
       "    <tr>\n",
       "      <th>4</th>\n",
       "      <td>oliebollen.com</td>\n",
       "      <td>shopping</td>\n",
       "      <td>1</td>\n",
       "    </tr>\n",
       "    <tr>\n",
       "      <th>...</th>\n",
       "      <td>...</td>\n",
       "      <td>...</td>\n",
       "      <td>...</td>\n",
       "    </tr>\n",
       "    <tr>\n",
       "      <th>1571537</th>\n",
       "      <td>divequest.co.uk</td>\n",
       "      <td>recreation/travel</td>\n",
       "      <td>1</td>\n",
       "    </tr>\n",
       "    <tr>\n",
       "      <th>1571538</th>\n",
       "      <td>wetholeshere.com</td>\n",
       "      <td>porn</td>\n",
       "      <td>1</td>\n",
       "    </tr>\n",
       "    <tr>\n",
       "      <th>1571539</th>\n",
       "      <td>teenbody.com</td>\n",
       "      <td>porn</td>\n",
       "      <td>1</td>\n",
       "    </tr>\n",
       "    <tr>\n",
       "      <th>1571540</th>\n",
       "      <td>sex-free-pic.net</td>\n",
       "      <td>porn</td>\n",
       "      <td>1</td>\n",
       "    </tr>\n",
       "    <tr>\n",
       "      <th>1571541</th>\n",
       "      <td>bicestervillage.com</td>\n",
       "      <td>shopping</td>\n",
       "      <td>1</td>\n",
       "    </tr>\n",
       "  </tbody>\n",
       "</table>\n",
       "<p>1538108 rows × 3 columns</p>\n",
       "</div>"
      ],
      "text/plain": [
       "                                 domain         shalla_cat  cat_count\n",
       "0                     nicoleaniston.org               porn          1\n",
       "1                     gadiz.hotfire.net               porn          1\n",
       "2                      turismorural.com  recreation/travel          1\n",
       "3        esfollandodondesea.blogspot.de               porn          1\n",
       "4                        oliebollen.com           shopping          1\n",
       "...                                 ...                ...        ...\n",
       "1571537                 divequest.co.uk  recreation/travel          1\n",
       "1571538                wetholeshere.com               porn          1\n",
       "1571539                    teenbody.com               porn          1\n",
       "1571540                sex-free-pic.net               porn          1\n",
       "1571541             bicestervillage.com           shopping          1\n",
       "\n",
       "[1538108 rows x 3 columns]"
      ]
     },
     "execution_count": 2,
     "metadata": {},
     "output_type": "execute_result"
    }
   ],
   "source": [
    "df['cat_count'] = df.shalla_cat.apply(lambda c: len(c.split('|')))\n",
    "sdf = df[df.cat_count == 1]\n",
    "sdf"
   ]
  },
  {
   "cell_type": "code",
   "execution_count": 3,
   "metadata": {},
   "outputs": [
    {
     "data": {
      "text/html": [
       "<div>\n",
       "<style scoped>\n",
       "    .dataframe tbody tr th:only-of-type {\n",
       "        vertical-align: middle;\n",
       "    }\n",
       "\n",
       "    .dataframe tbody tr th {\n",
       "        vertical-align: top;\n",
       "    }\n",
       "\n",
       "    .dataframe thead th {\n",
       "        text-align: right;\n",
       "    }\n",
       "</style>\n",
       "<table border=\"1\" class=\"dataframe\">\n",
       "  <thead>\n",
       "    <tr style=\"text-align: right;\">\n",
       "      <th></th>\n",
       "      <th>domain</th>\n",
       "    </tr>\n",
       "    <tr>\n",
       "      <th>shalla_cat</th>\n",
       "      <th></th>\n",
       "    </tr>\n",
       "  </thead>\n",
       "  <tbody>\n",
       "    <tr>\n",
       "      <th>adv</th>\n",
       "      <td>12712</td>\n",
       "    </tr>\n",
       "    <tr>\n",
       "      <th>aggressive</th>\n",
       "      <td>483</td>\n",
       "    </tr>\n",
       "    <tr>\n",
       "      <th>alcohol</th>\n",
       "      <td>638</td>\n",
       "    </tr>\n",
       "    <tr>\n",
       "      <th>anonvpn</th>\n",
       "      <td>6981</td>\n",
       "    </tr>\n",
       "    <tr>\n",
       "      <th>automobile/bikes</th>\n",
       "      <td>893</td>\n",
       "    </tr>\n",
       "    <tr>\n",
       "      <th>...</th>\n",
       "      <td>...</td>\n",
       "    </tr>\n",
       "    <tr>\n",
       "      <th>weapons</th>\n",
       "      <td>442</td>\n",
       "    </tr>\n",
       "    <tr>\n",
       "      <th>webmail</th>\n",
       "      <td>3525</td>\n",
       "    </tr>\n",
       "    <tr>\n",
       "      <th>webphone</th>\n",
       "      <td>49</td>\n",
       "    </tr>\n",
       "    <tr>\n",
       "      <th>webradio</th>\n",
       "      <td>2254</td>\n",
       "    </tr>\n",
       "    <tr>\n",
       "      <th>webtv</th>\n",
       "      <td>502</td>\n",
       "    </tr>\n",
       "  </tbody>\n",
       "</table>\n",
       "<p>74 rows × 1 columns</p>\n",
       "</div>"
      ],
      "text/plain": [
       "                  domain\n",
       "shalla_cat              \n",
       "adv                12712\n",
       "aggressive           483\n",
       "alcohol              638\n",
       "anonvpn             6981\n",
       "automobile/bikes     893\n",
       "...                  ...\n",
       "weapons              442\n",
       "webmail             3525\n",
       "webphone              49\n",
       "webradio            2254\n",
       "webtv                502\n",
       "\n",
       "[74 rows x 1 columns]"
      ]
     },
     "execution_count": 3,
     "metadata": {},
     "output_type": "execute_result"
    }
   ],
   "source": [
    "dom_group = sdf.groupby('shalla_cat').agg({'domain': 'count'})\n",
    "dom_group"
   ]
  },
  {
   "cell_type": "markdown",
   "metadata": {},
   "source": [
    "### Take out categories that have less than 1000 domains."
   ]
  },
  {
   "cell_type": "code",
   "execution_count": 4,
   "metadata": {},
   "outputs": [],
   "source": [
    "filter_cat = list(dom_group[dom_group.domain > 1000].index)"
   ]
  },
  {
   "cell_type": "markdown",
   "metadata": {},
   "source": [
    "### Take out categories that have recall less than 0.3"
   ]
  },
  {
   "cell_type": "code",
   "execution_count": 5,
   "metadata": {},
   "outputs": [
    {
     "data": {
      "text/plain": [
       "['automobile/cars',\n",
       " 'chat',\n",
       " 'dating',\n",
       " 'drugs',\n",
       " 'hobby/games-misc',\n",
       " 'models',\n",
       " 'news',\n",
       " 'others',\n",
       " 'politics',\n",
       " 'searchengines',\n",
       " 'spyware',\n",
       " 'tracker',\n",
       " 'warez']"
      ]
     },
     "execution_count": 5,
     "metadata": {},
     "output_type": "execute_result"
    }
   ],
   "source": [
    "cmat = \"\"\"\n",
    "                   adv       0.77      0.42      0.54      2542\n",
    "               anonvpn       0.77      0.72      0.75      1396\n",
    "       automobile/cars       0.48      0.19      0.27       627\n",
    "                  chat       0.59      0.10      0.17      2686\n",
    "                dating       0.63      0.11      0.19       519\n",
    "             downloads       0.58      0.41      0.48       835\n",
    "                 drugs       0.60      0.24      0.34      2227\n",
    "               dynamic       0.66      0.51      0.58       213\n",
    "     education/schools       0.86      0.79      0.82      2014\n",
    "       finance/banking       0.69      0.56      0.62       998\n",
    "     finance/insurance       0.90      0.83      0.87       616\n",
    "  finance/moneylending       0.82      0.80      0.81       760\n",
    "    finance/realestate       0.61      0.38      0.47       276\n",
    "        fortunetelling       0.79      0.39      0.52       215\n",
    "                 forum       0.79      0.75      0.77      1612\n",
    "                gamble       0.79      0.74      0.76      2765\n",
    "      hobby/games-misc       0.80      0.04      0.08       378\n",
    "    hobby/games-online       0.67      0.48      0.56      2772\n",
    "            hobby/pets       0.65      0.36      0.46      3233\n",
    "             hospitals       0.87      0.67      0.76       327\n",
    "             jobsearch       0.84      0.46      0.59       859\n",
    "                models       0.00      0.00      0.00       345\n",
    "                movies       0.64      0.54      0.58      1112\n",
    "                 music       0.83      0.81      0.82      1784\n",
    "                  news       0.52      0.24      0.33      7668\n",
    "                others       0.50      0.10      0.16      3011\n",
    "              politics       0.79      0.22      0.35       258\n",
    "                  porn       0.86      0.92      0.89    165489\n",
    "               radiotv       0.58      0.50      0.54       712\n",
    "recreation/restaurants       0.70      0.26      0.38       282\n",
    "     recreation/sports       0.62      0.64      0.63     24085\n",
    "     recreation/travel       0.69      0.66      0.68     27789\n",
    "            redirector       0.81      0.67      0.73      5873\n",
    "              religion       0.89      0.81      0.84      1838\n",
    "     science/astronomy       0.69      0.77      0.73       207\n",
    "         searchengines       0.57      0.23      0.32       220\n",
    "          sex/lingerie       0.50      0.35      0.41       211\n",
    "              shopping       0.50      0.67      0.57     33452\n",
    "               spyware       0.51      0.22      0.31      3666\n",
    "               tracker       0.58      0.16      0.25       220\n",
    "                 warez       0.47      0.16      0.23       374\n",
    "               webmail       0.80      0.55      0.65       705\n",
    "              webradio       0.54      0.37      0.44       451\n",
    "\"\"\"\n",
    "\n",
    "import re\n",
    "\n",
    "excat = []\n",
    "for l in cmat.split('\\n'):\n",
    "    a = re.split('\\s+', l)\n",
    "    if len(a) > 1:\n",
    "        cat = a[1]\n",
    "        recall = float(a[3])\n",
    "        if recall < 0.3:\n",
    "            excat.append(cat)\n",
    "excat"
   ]
  },
  {
   "cell_type": "code",
   "execution_count": 6,
   "metadata": {},
   "outputs": [
    {
     "data": {
      "text/plain": [
       "['adv',\n",
       " 'anonvpn',\n",
       " 'downloads',\n",
       " 'dynamic',\n",
       " 'education/schools',\n",
       " 'finance/banking',\n",
       " 'finance/insurance',\n",
       " 'finance/moneylending',\n",
       " 'finance/realestate',\n",
       " 'fortunetelling',\n",
       " 'forum',\n",
       " 'gamble',\n",
       " 'hobby/games-online',\n",
       " 'hobby/pets',\n",
       " 'hospitals',\n",
       " 'jobsearch',\n",
       " 'movies',\n",
       " 'music',\n",
       " 'porn',\n",
       " 'radiotv',\n",
       " 'recreation/restaurants',\n",
       " 'recreation/sports',\n",
       " 'recreation/travel',\n",
       " 'redirector',\n",
       " 'religion',\n",
       " 'science/astronomy',\n",
       " 'sex/lingerie',\n",
       " 'shopping',\n",
       " 'webmail',\n",
       " 'webradio']"
      ]
     },
     "execution_count": 6,
     "metadata": {},
     "output_type": "execute_result"
    }
   ],
   "source": [
    "filter_cat = [x for x in filter_cat if x not in excat]\n",
    "filter_cat"
   ]
  },
  {
   "cell_type": "code",
   "execution_count": 7,
   "metadata": {},
   "outputs": [
    {
     "name": "stderr",
     "output_type": "stream",
     "text": [
      "/opt/venv37/lib/python3.7/site-packages/pandas/core/indexing.py:966: SettingWithCopyWarning: \n",
      "A value is trying to be set on a copy of a slice from a DataFrame.\n",
      "Try using .loc[row_indexer,col_indexer] = value instead\n",
      "\n",
      "See the caveats in the documentation: https://pandas.pydata.org/pandas-docs/stable/user_guide/indexing.html#returning-a-view-versus-a-copy\n",
      "  self.obj[item] = s\n"
     ]
    },
    {
     "data": {
      "text/html": [
       "<div>\n",
       "<style scoped>\n",
       "    .dataframe tbody tr th:only-of-type {\n",
       "        vertical-align: middle;\n",
       "    }\n",
       "\n",
       "    .dataframe tbody tr th {\n",
       "        vertical-align: top;\n",
       "    }\n",
       "\n",
       "    .dataframe thead th {\n",
       "        text-align: right;\n",
       "    }\n",
       "</style>\n",
       "<table border=\"1\" class=\"dataframe\">\n",
       "  <thead>\n",
       "    <tr style=\"text-align: right;\">\n",
       "      <th></th>\n",
       "      <th>domain</th>\n",
       "      <th>shalla_cat</th>\n",
       "      <th>cat_count</th>\n",
       "    </tr>\n",
       "  </thead>\n",
       "  <tbody>\n",
       "    <tr>\n",
       "      <th>0</th>\n",
       "      <td>nicoleaniston.org</td>\n",
       "      <td>porn</td>\n",
       "      <td>1</td>\n",
       "    </tr>\n",
       "    <tr>\n",
       "      <th>1</th>\n",
       "      <td>gadiz.hotfire.net</td>\n",
       "      <td>porn</td>\n",
       "      <td>1</td>\n",
       "    </tr>\n",
       "    <tr>\n",
       "      <th>2</th>\n",
       "      <td>turismorural.com</td>\n",
       "      <td>recreation/travel</td>\n",
       "      <td>1</td>\n",
       "    </tr>\n",
       "    <tr>\n",
       "      <th>3</th>\n",
       "      <td>esfollandodondesea.blogspot.de</td>\n",
       "      <td>porn</td>\n",
       "      <td>1</td>\n",
       "    </tr>\n",
       "    <tr>\n",
       "      <th>4</th>\n",
       "      <td>oliebollen.com</td>\n",
       "      <td>shopping</td>\n",
       "      <td>1</td>\n",
       "    </tr>\n",
       "    <tr>\n",
       "      <th>...</th>\n",
       "      <td>...</td>\n",
       "      <td>...</td>\n",
       "      <td>...</td>\n",
       "    </tr>\n",
       "    <tr>\n",
       "      <th>1571537</th>\n",
       "      <td>divequest.co.uk</td>\n",
       "      <td>recreation/travel</td>\n",
       "      <td>1</td>\n",
       "    </tr>\n",
       "    <tr>\n",
       "      <th>1571538</th>\n",
       "      <td>wetholeshere.com</td>\n",
       "      <td>porn</td>\n",
       "      <td>1</td>\n",
       "    </tr>\n",
       "    <tr>\n",
       "      <th>1571539</th>\n",
       "      <td>teenbody.com</td>\n",
       "      <td>porn</td>\n",
       "      <td>1</td>\n",
       "    </tr>\n",
       "    <tr>\n",
       "      <th>1571540</th>\n",
       "      <td>sex-free-pic.net</td>\n",
       "      <td>porn</td>\n",
       "      <td>1</td>\n",
       "    </tr>\n",
       "    <tr>\n",
       "      <th>1571541</th>\n",
       "      <td>bicestervillage.com</td>\n",
       "      <td>shopping</td>\n",
       "      <td>1</td>\n",
       "    </tr>\n",
       "  </tbody>\n",
       "</table>\n",
       "<p>1538108 rows × 3 columns</p>\n",
       "</div>"
      ],
      "text/plain": [
       "                                 domain         shalla_cat  cat_count\n",
       "0                     nicoleaniston.org               porn          1\n",
       "1                     gadiz.hotfire.net               porn          1\n",
       "2                      turismorural.com  recreation/travel          1\n",
       "3        esfollandodondesea.blogspot.de               porn          1\n",
       "4                        oliebollen.com           shopping          1\n",
       "...                                 ...                ...        ...\n",
       "1571537                 divequest.co.uk  recreation/travel          1\n",
       "1571538                wetholeshere.com               porn          1\n",
       "1571539                    teenbody.com               porn          1\n",
       "1571540                sex-free-pic.net               porn          1\n",
       "1571541             bicestervillage.com           shopping          1\n",
       "\n",
       "[1538108 rows x 3 columns]"
      ]
     },
     "execution_count": 7,
     "metadata": {},
     "output_type": "execute_result"
    }
   ],
   "source": [
    "sdf.loc[sdf.shalla_cat.isin(filter_cat) == False, 'shalla_cat'] = 'others'\n",
    "sdf"
   ]
  },
  {
   "cell_type": "code",
   "execution_count": 8,
   "metadata": {},
   "outputs": [
    {
     "data": {
      "text/html": [
       "<div>\n",
       "<style scoped>\n",
       "    .dataframe tbody tr th:only-of-type {\n",
       "        vertical-align: middle;\n",
       "    }\n",
       "\n",
       "    .dataframe tbody tr th {\n",
       "        vertical-align: top;\n",
       "    }\n",
       "\n",
       "    .dataframe thead th {\n",
       "        text-align: right;\n",
       "    }\n",
       "</style>\n",
       "<table border=\"1\" class=\"dataframe\">\n",
       "  <thead>\n",
       "    <tr style=\"text-align: right;\">\n",
       "      <th></th>\n",
       "      <th>domain</th>\n",
       "    </tr>\n",
       "    <tr>\n",
       "      <th>shalla_cat</th>\n",
       "      <th></th>\n",
       "    </tr>\n",
       "  </thead>\n",
       "  <tbody>\n",
       "    <tr>\n",
       "      <th>adv</th>\n",
       "      <td>12712</td>\n",
       "    </tr>\n",
       "    <tr>\n",
       "      <th>anonvpn</th>\n",
       "      <td>6981</td>\n",
       "    </tr>\n",
       "    <tr>\n",
       "      <th>downloads</th>\n",
       "      <td>4177</td>\n",
       "    </tr>\n",
       "    <tr>\n",
       "      <th>dynamic</th>\n",
       "      <td>1066</td>\n",
       "    </tr>\n",
       "    <tr>\n",
       "      <th>education/schools</th>\n",
       "      <td>10068</td>\n",
       "    </tr>\n",
       "    <tr>\n",
       "      <th>finance/banking</th>\n",
       "      <td>4989</td>\n",
       "    </tr>\n",
       "    <tr>\n",
       "      <th>finance/insurance</th>\n",
       "      <td>3081</td>\n",
       "    </tr>\n",
       "    <tr>\n",
       "      <th>finance/moneylending</th>\n",
       "      <td>3802</td>\n",
       "    </tr>\n",
       "    <tr>\n",
       "      <th>finance/realestate</th>\n",
       "      <td>1379</td>\n",
       "    </tr>\n",
       "    <tr>\n",
       "      <th>fortunetelling</th>\n",
       "      <td>1077</td>\n",
       "    </tr>\n",
       "    <tr>\n",
       "      <th>forum</th>\n",
       "      <td>8058</td>\n",
       "    </tr>\n",
       "    <tr>\n",
       "      <th>gamble</th>\n",
       "      <td>13827</td>\n",
       "    </tr>\n",
       "    <tr>\n",
       "      <th>hobby/games-online</th>\n",
       "      <td>13861</td>\n",
       "    </tr>\n",
       "    <tr>\n",
       "      <th>hobby/pets</th>\n",
       "      <td>16164</td>\n",
       "    </tr>\n",
       "    <tr>\n",
       "      <th>hospitals</th>\n",
       "      <td>1637</td>\n",
       "    </tr>\n",
       "    <tr>\n",
       "      <th>jobsearch</th>\n",
       "      <td>4294</td>\n",
       "    </tr>\n",
       "    <tr>\n",
       "      <th>movies</th>\n",
       "      <td>5558</td>\n",
       "    </tr>\n",
       "    <tr>\n",
       "      <th>music</th>\n",
       "      <td>8918</td>\n",
       "    </tr>\n",
       "    <tr>\n",
       "      <th>others</th>\n",
       "      <td>110991</td>\n",
       "    </tr>\n",
       "    <tr>\n",
       "      <th>porn</th>\n",
       "      <td>827444</td>\n",
       "    </tr>\n",
       "    <tr>\n",
       "      <th>radiotv</th>\n",
       "      <td>3560</td>\n",
       "    </tr>\n",
       "    <tr>\n",
       "      <th>recreation/restaurants</th>\n",
       "      <td>1408</td>\n",
       "    </tr>\n",
       "    <tr>\n",
       "      <th>recreation/sports</th>\n",
       "      <td>120426</td>\n",
       "    </tr>\n",
       "    <tr>\n",
       "      <th>recreation/travel</th>\n",
       "      <td>138943</td>\n",
       "    </tr>\n",
       "    <tr>\n",
       "      <th>redirector</th>\n",
       "      <td>29366</td>\n",
       "    </tr>\n",
       "    <tr>\n",
       "      <th>religion</th>\n",
       "      <td>9189</td>\n",
       "    </tr>\n",
       "    <tr>\n",
       "      <th>science/astronomy</th>\n",
       "      <td>1035</td>\n",
       "    </tr>\n",
       "    <tr>\n",
       "      <th>sex/lingerie</th>\n",
       "      <td>1056</td>\n",
       "    </tr>\n",
       "    <tr>\n",
       "      <th>shopping</th>\n",
       "      <td>167262</td>\n",
       "    </tr>\n",
       "    <tr>\n",
       "      <th>webmail</th>\n",
       "      <td>3525</td>\n",
       "    </tr>\n",
       "    <tr>\n",
       "      <th>webradio</th>\n",
       "      <td>2254</td>\n",
       "    </tr>\n",
       "  </tbody>\n",
       "</table>\n",
       "</div>"
      ],
      "text/plain": [
       "                        domain\n",
       "shalla_cat                    \n",
       "adv                      12712\n",
       "anonvpn                   6981\n",
       "downloads                 4177\n",
       "dynamic                   1066\n",
       "education/schools        10068\n",
       "finance/banking           4989\n",
       "finance/insurance         3081\n",
       "finance/moneylending      3802\n",
       "finance/realestate        1379\n",
       "fortunetelling            1077\n",
       "forum                     8058\n",
       "gamble                   13827\n",
       "hobby/games-online       13861\n",
       "hobby/pets               16164\n",
       "hospitals                 1637\n",
       "jobsearch                 4294\n",
       "movies                    5558\n",
       "music                     8918\n",
       "others                  110991\n",
       "porn                    827444\n",
       "radiotv                   3560\n",
       "recreation/restaurants    1408\n",
       "recreation/sports       120426\n",
       "recreation/travel       138943\n",
       "redirector               29366\n",
       "religion                  9189\n",
       "science/astronomy         1035\n",
       "sex/lingerie              1056\n",
       "shopping                167262\n",
       "webmail                   3525\n",
       "webradio                  2254"
      ]
     },
     "execution_count": 8,
     "metadata": {},
     "output_type": "execute_result"
    }
   ],
   "source": [
    "sdf.groupby('shalla_cat').agg({'domain': 'count'})"
   ]
  },
  {
   "cell_type": "markdown",
   "metadata": {},
   "source": [
    "## Preprocessing the input data"
   ]
  },
  {
   "cell_type": "code",
   "execution_count": 9,
   "metadata": {},
   "outputs": [
    {
     "name": "stdout",
     "output_type": "stream",
     "text": [
      "num_words = 1936\n"
     ]
    }
   ],
   "source": [
    "# build n-gram list\n",
    "#vect = CountVectorizer(analyzer='char', max_df=0.3, min_df=3, ngram_range=(NGRAMS, NGRAMS), lowercase=False) \n",
    "vect = CountVectorizer(analyzer='char', ngram_range=(NGRAMS, NGRAMS), lowercase=False) \n",
    "a = vect.fit_transform(sdf.domain)\n",
    "vocab = vect.vocabulary_\n",
    "\n",
    "# sort n-gram by freq (highest -> lowest)\n",
    "words = []\n",
    "for b in vocab:\n",
    "    c = vocab[b]\n",
    "    #print(b, c, a[:, c].sum())\n",
    "    words.append((a[:, c].sum(), b))\n",
    "    #break\n",
    "words = sorted(words, reverse=True)\n",
    "words_list = [w[1] for w in words]\n",
    "num_words = len(words_list)\n",
    "print(\"num_words = %d\" % num_words)\n",
    "\n",
    "\n",
    "def find_ngrams(text, n):\n",
    "    a = zip(*[text[i:] for i in range(n)])\n",
    "    wi = []\n",
    "    for i in a:\n",
    "        w = ''.join(i)\n",
    "        try:\n",
    "            idx = words_list.index(w)\n",
    "        except:\n",
    "            idx = 0\n",
    "        wi.append(idx)\n",
    "    return wi\n",
    "\n",
    "# build X from index of n-gram sequence\n",
    "X = np.array(sdf.domain.apply(lambda c: find_ngrams(c, NGRAMS)))\n",
    "\n",
    "# check max/avg feature\n",
    "X_len = []\n",
    "for x in X:\n",
    "    X_len.append(len(x))\n",
    "\n",
    "max_feature_len = max(X_len)\n",
    "avg_feature_len = int(np.mean(X_len))"
   ]
  },
  {
   "cell_type": "code",
   "execution_count": 10,
   "metadata": {},
   "outputs": [
    {
     "name": "stdout",
     "output_type": "stream",
     "text": [
      "Max feature len = 119, Avg. feature len = 15\n"
     ]
    }
   ],
   "source": [
    "print(\"Max feature len = %d, Avg. feature len = %d\" % (max_feature_len, avg_feature_len))\n",
    "class_labels = sdf.shalla_cat.astype('category').cat.categories\n",
    "y = np.array(sdf.shalla_cat.astype('category').cat.codes)\n",
    "\n",
    "# Split train and test dataset\n",
    "X_train_valid,  X_test, y_train_valid, y_test = train_test_split(X, y, test_size=0.2, random_state=21, stratify=y)\n",
    "X_train,  X_valid, y_train, y_valid = train_test_split(X_train_valid, y_train_valid, test_size=0.2, random_state=21, stratify=y_train_valid)\n",
    "#X_train,  X_test, y_train, y_test = train_test_split(X, y, test_size=0.2)\n",
    "# backup\n",
    "y_train_lab = y_train\n",
    "y_test_lab = y_test"
   ]
  },
  {
   "cell_type": "code",
   "execution_count": 11,
   "metadata": {},
   "outputs": [
    {
     "data": {
      "text/plain": [
       "{0: 2542,\n",
       " 1: 1396,\n",
       " 2: 835,\n",
       " 3: 213,\n",
       " 4: 2014,\n",
       " 5: 998,\n",
       " 6: 616,\n",
       " 7: 760,\n",
       " 8: 276,\n",
       " 9: 215,\n",
       " 10: 1612,\n",
       " 11: 2765,\n",
       " 12: 2772,\n",
       " 13: 3233,\n",
       " 14: 327,\n",
       " 15: 859,\n",
       " 16: 1112,\n",
       " 17: 1784,\n",
       " 18: 22198,\n",
       " 19: 165489,\n",
       " 20: 712,\n",
       " 21: 282,\n",
       " 22: 24085,\n",
       " 23: 27789,\n",
       " 24: 5873,\n",
       " 25: 1838,\n",
       " 26: 207,\n",
       " 27: 211,\n",
       " 28: 33453,\n",
       " 29: 705,\n",
       " 30: 451}"
      ]
     },
     "execution_count": 11,
     "metadata": {},
     "output_type": "execute_result"
    }
   ],
   "source": [
    "unique, counts = np.unique(y_test, return_counts=True)\n",
    "dict(zip(unique, counts))"
   ]
  },
  {
   "cell_type": "code",
   "execution_count": 12,
   "metadata": {},
   "outputs": [
    {
     "data": {
      "text/plain": [
       "{0: 8136,\n",
       " 1: 4468,\n",
       " 2: 2674,\n",
       " 3: 682,\n",
       " 4: 6443,\n",
       " 5: 3193,\n",
       " 6: 1972,\n",
       " 7: 2434,\n",
       " 8: 882,\n",
       " 9: 690,\n",
       " 10: 5157,\n",
       " 11: 8850,\n",
       " 12: 8871,\n",
       " 13: 10345,\n",
       " 14: 1048,\n",
       " 15: 2748,\n",
       " 16: 3557,\n",
       " 17: 5707,\n",
       " 18: 71034,\n",
       " 19: 529564,\n",
       " 20: 2278,\n",
       " 21: 901,\n",
       " 22: 77073,\n",
       " 23: 88923,\n",
       " 24: 18794,\n",
       " 25: 5881,\n",
       " 26: 662,\n",
       " 27: 676,\n",
       " 28: 107047,\n",
       " 29: 2256,\n",
       " 30: 1442}"
      ]
     },
     "execution_count": 12,
     "metadata": {},
     "output_type": "execute_result"
    }
   ],
   "source": [
    "unique, counts = np.unique(y_train, return_counts=True)\n",
    "dict(zip(unique, counts))"
   ]
  },
  {
   "cell_type": "markdown",
   "metadata": {},
   "source": [
    "## Train a LSTM model"
   ]
  },
  {
   "cell_type": "code",
   "execution_count": 13,
   "metadata": {},
   "outputs": [
    {
     "name": "stderr",
     "output_type": "stream",
     "text": [
      "Using TensorFlow backend.\n"
     ]
    },
    {
     "name": "stdout",
     "output_type": "stream",
     "text": [
      "1230486 train+valid sequences\n",
      "984388 train sequences\n",
      "246098 valid sequences\n",
      "307622 test sequences\n",
      "Pad sequences (samples x time)\n",
      "X_train_valid shape: (1230486, 128)\n",
      "X_train shape: (984388, 128)\n",
      "X_valid shape: (246098, 128)\n",
      "X_test shape: (307622, 128)\n",
      "31 classes\n",
      "Convert class vector to binary class matrix (for use with categorical_crossentropy)\n",
      "y_train_valid shape: (1230486, 31)\n",
      "y_train shape: (984388, 31)\n",
      "y_valid shape: (246098, 31)\n",
      "y_test shape: (307622, 31)\n"
     ]
    }
   ],
   "source": [
    "import keras\n",
    "from keras.preprocessing import sequence\n",
    "from keras.models import Sequential\n",
    "from keras.layers import Dense, Embedding, Dropout, Activation\n",
    "from keras.layers import LSTM\n",
    "from keras.layers.convolutional import Conv1D\n",
    "from keras.layers.convolutional import MaxPooling1D\n",
    "from keras.models import load_model\n",
    "\n",
    "max_features = num_words # 20000\n",
    "feature_len = FEATURE_LEN # avg_feature_len # cut texts after this number of words (among top max_features most common words)\n",
    "batch_size = 32\n",
    "\n",
    "print(len(X_train_valid), 'train+valid sequences')\n",
    "print(len(X_train), 'train sequences')\n",
    "print(len(X_valid), 'valid sequences')\n",
    "print(len(X_test), 'test sequences')\n",
    "\n",
    "print('Pad sequences (samples x time)')\n",
    "X_train_valid = sequence.pad_sequences(X_train_valid, maxlen=feature_len)\n",
    "X_train = sequence.pad_sequences(X_train, maxlen=feature_len)\n",
    "X_valid = sequence.pad_sequences(X_valid, maxlen=feature_len)\n",
    "X_test = sequence.pad_sequences(X_test, maxlen=feature_len)\n",
    "print('X_train_valid shape:', X_train_valid.shape)\n",
    "print('X_train shape:', X_train.shape)\n",
    "print('X_valid shape:', X_valid.shape)\n",
    "print('X_test shape:', X_test.shape)\n",
    "\n",
    "n_classes = np.max(y_train_valid) + 1\n",
    "print(n_classes, 'classes')\n",
    "\n",
    "print('Convert class vector to binary class matrix '\n",
    "      '(for use with categorical_crossentropy)')\n",
    "y_train_valid = keras.utils.to_categorical(y_train_valid, n_classes)\n",
    "y_train = keras.utils.to_categorical(y_train, n_classes)\n",
    "y_valid = keras.utils.to_categorical(y_valid, n_classes)\n",
    "y_test = keras.utils.to_categorical(y_test, n_classes)\n",
    "print('y_train_valid shape:', y_train_valid.shape)\n",
    "print('y_train shape:', y_train.shape)\n",
    "print('y_valid shape:', y_valid.shape)\n",
    "print('y_test shape:', y_test.shape)"
   ]
  },
  {
   "cell_type": "code",
   "execution_count": 14,
   "metadata": {},
   "outputs": [],
   "source": [
    "def create_model():\n",
    "    print('Build model...')\n",
    "\n",
    "    model = Sequential()\n",
    "    model.add(Embedding(num_words, 32, input_length=feature_len))\n",
    "    model.add(LSTM(128, dropout=0.2, recurrent_dropout=0.2))\n",
    "    model.add(Dense(n_classes, activation='softmax'))\n",
    "\n",
    "    # try using different optimizers and different optimizer configs\n",
    "    model.compile(loss='categorical_crossentropy',\n",
    "                  optimizer='adam',\n",
    "                  metrics=['accuracy'])\n",
    "\n",
    "    #print(model.summary())\n",
    "    \n",
    "    return model"
   ]
  },
  {
   "cell_type": "raw",
   "metadata": {},
   "source": [
    "print('Train...')\n",
    "model.fit(X_train, y_train, batch_size=batch_size, epochs=EPOCHS,\n",
    "          validation_split=0.1, verbose=1)\n",
    "score, acc = model.evaluate(X_test, y_test,\n",
    "                            batch_size=batch_size, verbose=1)\n",
    "print('Test score:', score)\n",
    "print('Test accuracy:', acc)"
   ]
  },
  {
   "cell_type": "code",
   "execution_count": 15,
   "metadata": {},
   "outputs": [],
   "source": [
    "import matplotlib.pyplot as plt\n",
    "\n",
    "from keras.wrappers.scikit_learn import KerasClassifier\n",
    "from sklearn.calibration import CalibratedClassifierCV, calibration_curve\n",
    "from sklearn.metrics import (brier_score_loss, precision_score, recall_score,\n",
    "                             f1_score, log_loss)\n",
    "from sklearn.linear_model import LogisticRegression"
   ]
  },
  {
   "cell_type": "code",
   "execution_count": 16,
   "metadata": {},
   "outputs": [
    {
     "name": "stdout",
     "output_type": "stream",
     "text": [
      "Build model...\n"
     ]
    },
    {
     "name": "stderr",
     "output_type": "stream",
     "text": [
      "/opt/venv37/lib/python3.7/site-packages/tensorflow_core/python/framework/indexed_slices.py:433: UserWarning: Converting sparse IndexedSlices to a dense Tensor of unknown shape. This may consume a large amount of memory.\n",
      "  \"Converting sparse IndexedSlices to a dense Tensor of unknown shape. \"\n"
     ]
    },
    {
     "name": "stdout",
     "output_type": "stream",
     "text": [
      "Epoch 1/15\n",
      "1230486/1230486 [==============================] - 5751s 5ms/step - loss: 1.0534 - accuracy: 0.6720\n",
      "Epoch 2/15\n",
      "1230486/1230486 [==============================] - 5632s 5ms/step - loss: 0.8974 - accuracy: 0.7152\n",
      "Epoch 3/15\n",
      "1230486/1230486 [==============================] - 5710s 5ms/step - loss: 0.8630 - accuracy: 0.7258\n",
      "Epoch 4/15\n",
      "1230486/1230486 [==============================] - 5746s 5ms/step - loss: 0.8450 - accuracy: 0.7313\n",
      "Epoch 5/15\n",
      "1230486/1230486 [==============================] - 5648s 5ms/step - loss: 0.8338 - accuracy: 0.7350\n",
      "Epoch 6/15\n",
      "1230486/1230486 [==============================] - 5950s 5ms/step - loss: 0.8259 - accuracy: 0.7371\n",
      "Epoch 7/15\n",
      "1230486/1230486 [==============================] - 5887s 5ms/step - loss: 0.8197 - accuracy: 0.7392\n",
      "Epoch 8/15\n",
      "1230486/1230486 [==============================] - 5885s 5ms/step - loss: 0.8142 - accuracy: 0.7409\n",
      "Epoch 9/15\n",
      "1230486/1230486 [==============================] - 5908s 5ms/step - loss: 0.8093 - accuracy: 0.7424\n",
      "Epoch 10/15\n",
      "1230486/1230486 [==============================] - 5798s 5ms/step - loss: 0.8083 - accuracy: 0.7427\n",
      "Epoch 11/15\n",
      "1230486/1230486 [==============================] - 5847s 5ms/step - loss: 0.8032 - accuracy: 0.7444\n",
      "Epoch 12/15\n",
      "1230486/1230486 [==============================] - 5886s 5ms/step - loss: 0.8028 - accuracy: 0.7442\n",
      "Epoch 13/15\n",
      "1230486/1230486 [==============================] - 5846s 5ms/step - loss: 0.8018 - accuracy: 0.7449\n",
      "Epoch 14/15\n",
      "1230486/1230486 [==============================] - 5680s 5ms/step - loss: 0.7978 - accuracy: 0.7461\n",
      "Epoch 15/15\n",
      "1230486/1230486 [==============================] - 6214s 5ms/step - loss: 0.7955 - accuracy: 0.7465\n",
      "307622/307622 [==============================] - 414s 1ms/step\n"
     ]
    }
   ],
   "source": [
    "# Train uncalibrated random forest classifier on whole train and validation\n",
    "# data and evaluate on test data\n",
    "\n",
    "clf = KerasClassifier(build_fn=create_model, epochs=EPOCHS, batch_size=batch_size, verbose=1)\n",
    "clf.fit(X_train_valid, y_train_valid)\n",
    "clf_probs = clf.predict_proba(X_test)\n",
    "score = log_loss(y_test, clf_probs)"
   ]
  },
  {
   "cell_type": "code",
   "execution_count": 17,
   "metadata": {},
   "outputs": [
    {
     "name": "stdout",
     "output_type": "stream",
     "text": [
      "Build model...\n"
     ]
    },
    {
     "name": "stderr",
     "output_type": "stream",
     "text": [
      "/opt/venv37/lib/python3.7/site-packages/tensorflow_core/python/framework/indexed_slices.py:433: UserWarning: Converting sparse IndexedSlices to a dense Tensor of unknown shape. This may consume a large amount of memory.\n",
      "  \"Converting sparse IndexedSlices to a dense Tensor of unknown shape. \"\n"
     ]
    },
    {
     "name": "stdout",
     "output_type": "stream",
     "text": [
      "Epoch 1/15\n",
      "984388/984388 [==============================] - 4954s 5ms/step - loss: 1.0807 - accuracy: 0.6646\n",
      "Epoch 2/15\n",
      "984388/984388 [==============================] - 4889s 5ms/step - loss: 0.9130 - accuracy: 0.7106\n",
      "Epoch 3/15\n",
      "984388/984388 [==============================] - 4882s 5ms/step - loss: 0.8722 - accuracy: 0.7229\n",
      "Epoch 4/15\n",
      "984388/984388 [==============================] - 4878s 5ms/step - loss: 0.8518 - accuracy: 0.7293\n",
      "Epoch 5/15\n",
      "984388/984388 [==============================] - 5506s 6ms/step - loss: 0.8399 - accuracy: 0.7332\n",
      "Epoch 6/15\n",
      "984388/984388 [==============================] - 5544s 6ms/step - loss: 0.8331 - accuracy: 0.7346\n",
      "Epoch 7/15\n",
      "984388/984388 [==============================] - 5552s 6ms/step - loss: 0.8241 - accuracy: 0.7374\n",
      "Epoch 8/15\n",
      "984388/984388 [==============================] - 5066s 5ms/step - loss: 0.8172 - accuracy: 0.7398\n",
      "Epoch 9/15\n",
      "984388/984388 [==============================] - 4967s 5ms/step - loss: 0.8127 - accuracy: 0.7407\n",
      "Epoch 10/15\n",
      "984388/984388 [==============================] - 4990s 5ms/step - loss: 0.8081 - accuracy: 0.7424\n",
      "Epoch 11/15\n",
      "984388/984388 [==============================] - 4985s 5ms/step - loss: 0.8058 - accuracy: 0.7431\n",
      "Epoch 12/15\n",
      "984388/984388 [==============================] - 5019s 5ms/step - loss: 0.8025 - accuracy: 0.7442\n",
      "Epoch 13/15\n",
      "984388/984388 [==============================] - 5081s 5ms/step - loss: 0.8006 - accuracy: 0.7448\n",
      "Epoch 14/15\n",
      "984388/984388 [==============================] - 5222s 5ms/step - loss: 0.7979 - accuracy: 0.7458\n",
      "Epoch 15/15\n",
      "984388/984388 [==============================] - 5121s 5ms/step - loss: 0.7959 - accuracy: 0.7464\n",
      "307622/307622 [==============================] - 424s 1ms/step\n"
     ]
    }
   ],
   "source": [
    "# Train random forest classifier, calibrate on validation data and evaluate\n",
    "# on test data\n",
    "clf = KerasClassifier(build_fn=create_model, epochs=EPOCHS, batch_size=batch_size, verbose=1)\n",
    "clf.fit(X_train, y_train)\n",
    "clf_probs = clf.predict_proba(X_test)"
   ]
  },
  {
   "cell_type": "code",
   "execution_count": 18,
   "metadata": {},
   "outputs": [
    {
     "data": {
      "text/plain": [
       "((984388, 128), (984388, 31), (246098, 128), (246098, 31))"
      ]
     },
     "execution_count": 18,
     "metadata": {},
     "output_type": "execute_result"
    }
   ],
   "source": [
    "X_train.shape, y_train.shape, X_valid.shape, y_valid.shape"
   ]
  },
  {
   "cell_type": "code",
   "execution_count": 19,
   "metadata": {},
   "outputs": [
    {
     "name": "stdout",
     "output_type": "stream",
     "text": [
      "246098/246098 [==============================] - 338s 1ms/step\n",
      "307622/307622 [==============================] - 437s 1ms/step\n"
     ]
    }
   ],
   "source": [
    "sig_clf = CalibratedClassifierCV(clf, method=\"sigmoid\", cv=\"prefit\")\n",
    "sig_clf.fit(X_valid, np.argmax(y_valid, axis=1))\n",
    "sig_clf_probs = sig_clf.predict_proba(X_test)\n",
    "sig_score = log_loss(y_test, sig_clf_probs)"
   ]
  },
  {
   "cell_type": "code",
   "execution_count": 20,
   "metadata": {},
   "outputs": [
    {
     "data": {
      "text/plain": [
       "(0.7399195194924828, 0.8425819493448737)"
      ]
     },
     "execution_count": 20,
     "metadata": {},
     "output_type": "execute_result"
    }
   ],
   "source": [
    "score, sig_score"
   ]
  },
  {
   "cell_type": "markdown",
   "metadata": {},
   "source": [
    "### Calibrated LSTM Score"
   ]
  },
  {
   "cell_type": "code",
   "execution_count": 21,
   "metadata": {},
   "outputs": [
    {
     "name": "stdout",
     "output_type": "stream",
     "text": [
      "307622/307622 [==============================] - 440s 1ms/step\n"
     ]
    }
   ],
   "source": [
    "sig_clf_pred = sig_clf.predict(X_test)"
   ]
  },
  {
   "cell_type": "code",
   "execution_count": 22,
   "metadata": {},
   "outputs": [
    {
     "name": "stdout",
     "output_type": "stream",
     "text": [
      "\tPrecision: 0.760\n",
      "\tRecall: 0.563\n",
      "\tF1: 0.634\n",
      "\n"
     ]
    }
   ],
   "source": [
    "print(\"\\tPrecision: %1.3f\" % precision_score(np.argmax(y_test, axis=1), sig_clf_pred, average='macro'))\n",
    "print(\"\\tRecall: %1.3f\" % recall_score(np.argmax(y_test, axis=1), sig_clf_pred, average='macro'))\n",
    "print(\"\\tF1: %1.3f\\n\" % f1_score(np.argmax(y_test, axis=1), sig_clf_pred, average='macro'))\n",
    "\n",
    "fraction_of_positives, mean_predicted_value = \\\n",
    "    calibration_curve(y_test[:, 0], sig_clf_probs[:, 0], n_bins=10)"
   ]
  },
  {
   "cell_type": "markdown",
   "metadata": {},
   "source": [
    "### LSTM Score"
   ]
  },
  {
   "cell_type": "code",
   "execution_count": 23,
   "metadata": {},
   "outputs": [
    {
     "name": "stdout",
     "output_type": "stream",
     "text": [
      "307622/307622 [==============================] - 472s 2ms/step\n"
     ]
    }
   ],
   "source": [
    "clf_pred = clf.predict(X_test)"
   ]
  },
  {
   "cell_type": "code",
   "execution_count": 24,
   "metadata": {},
   "outputs": [
    {
     "name": "stdout",
     "output_type": "stream",
     "text": [
      "\tPrecision: 0.732\n",
      "\tRecall: 0.582\n",
      "\tF1: 0.635\n",
      "\n"
     ]
    }
   ],
   "source": [
    "print(\"\\tPrecision: %1.3f\" % precision_score(np.argmax(y_test, axis=1), clf_pred, average='macro'))\n",
    "print(\"\\tRecall: %1.3f\" % recall_score(np.argmax(y_test, axis=1), clf_pred, average='macro'))\n",
    "print(\"\\tF1: %1.3f\\n\" % f1_score(np.argmax(y_test, axis=1), clf_pred, average='macro'))\n",
    "\n",
    "fraction_of_positives, mean_predicted_value = \\\n",
    "    calibration_curve(y_test[:, 0], clf_probs[:, 0], n_bins=10)"
   ]
  },
  {
   "cell_type": "markdown",
   "metadata": {},
   "source": [
    "## Confusion Matrix"
   ]
  },
  {
   "cell_type": "code",
   "execution_count": 25,
   "metadata": {},
   "outputs": [
    {
     "name": "stdout",
     "output_type": "stream",
     "text": [
      "307622/307622 [==============================] - 450s 1ms/step\n"
     ]
    }
   ],
   "source": [
    "y_pred = clf.predict(X_test)"
   ]
  },
  {
   "cell_type": "code",
   "execution_count": 26,
   "metadata": {
    "scrolled": true
   },
   "outputs": [
    {
     "name": "stdout",
     "output_type": "stream",
     "text": [
      "                        precision    recall  f1-score   support\n",
      "\n",
      "                   adv       0.76      0.43      0.55      2542\n",
      "               anonvpn       0.80      0.70      0.74      1396\n",
      "             downloads       0.55      0.42      0.48       835\n",
      "               dynamic       0.76      0.55      0.64       213\n",
      "     education/schools       0.89      0.78      0.83      2014\n",
      "       finance/banking       0.70      0.57      0.63       998\n",
      "     finance/insurance       0.96      0.81      0.88       616\n",
      "  finance/moneylending       0.93      0.79      0.85       760\n",
      "    finance/realestate       0.64      0.41      0.50       276\n",
      "        fortunetelling       0.75      0.35      0.48       215\n",
      "                 forum       0.74      0.79      0.76      1612\n",
      "                gamble       0.83      0.75      0.79      2765\n",
      "    hobby/games-online       0.70      0.45      0.55      2772\n",
      "            hobby/pets       0.64      0.36      0.46      3233\n",
      "             hospitals       0.81      0.71      0.76       327\n",
      "             jobsearch       0.87      0.44      0.59       859\n",
      "                movies       0.60      0.53      0.56      1112\n",
      "                 music       0.86      0.83      0.84      1784\n",
      "                others       0.48      0.30      0.37     22198\n",
      "                  porn       0.86      0.92      0.89    165489\n",
      "               radiotv       0.54      0.54      0.54       712\n",
      "recreation/restaurants       0.83      0.26      0.39       282\n",
      "     recreation/sports       0.65      0.62      0.63     24085\n",
      "     recreation/travel       0.71      0.65      0.68     27789\n",
      "            redirector       0.84      0.66      0.74      5873\n",
      "              religion       0.91      0.81      0.86      1838\n",
      "     science/astronomy       0.68      0.87      0.76       207\n",
      "          sex/lingerie       0.55      0.18      0.27       211\n",
      "              shopping       0.52      0.64      0.57     33453\n",
      "               webmail       0.78      0.56      0.65       705\n",
      "              webradio       0.55      0.33      0.41       451\n",
      "\n",
      "              accuracy                           0.76    307622\n",
      "             macro avg       0.73      0.58      0.63    307622\n",
      "          weighted avg       0.76      0.76      0.76    307622\n",
      "\n",
      "[[  1084      6      5      7      1      5      0      0      0      0\n",
      "       3      3     10      0      1      1      1      3    200   1010\n",
      "       0      0     26     26      2      1      0      0    134     11\n",
      "       2]\n",
      " [     4    973      0      1      0      0      0      0      0      0\n",
      "       0      0      0      0      0      0      0      0     17    383\n",
      "       0      0      1      0     15      0      0      0      2      0\n",
      "       0]\n",
      " [     0      1    351      1      1      2      0      0      0      0\n",
      "       2      0      4      0      0      0      2      8    112    218\n",
      "       0      0     22     10      6      0      1      0     93      1\n",
      "       0]\n",
      " [     0      0      0    118      0      0      1      0      0      0\n",
      "       2      0      2      0      0      0      0      0     22     45\n",
      "       0      0      5      6      3      0      0      0      9      0\n",
      "       0]\n",
      " [     2      0      1      0   1577      1      0      1      0      0\n",
      "       0      0      0      3      0      1      1      1    132     61\n",
      "       0      0    119     29      1      7      1      0     75      1\n",
      "       0]\n",
      " [     0      0      0      0      3    572      0      2      0      0\n",
      "       0      2      0      0      0      0      0      0     99     74\n",
      "       0      0    104     39      0      0      0      0    103      0\n",
      "       0]\n",
      " [     0      0      0      0      0      0    500      2      0      0\n",
      "       0      0      0      0      0      0      0      0     41     19\n",
      "       0      0     12      5      0      0      0      0     37      0\n",
      "       0]\n",
      " [     0      1      1      0      2      1      0    599      0      0\n",
      "       0      4      0      0      0      0      0      0     62     28\n",
      "       0      0      2      5      1      2      0      0     52      0\n",
      "       0]\n",
      " [     0      0      0      0      0      0      1      0    112      0\n",
      "       1      0      0      0      0      2      0      0     26     47\n",
      "       0      0      9     33      0      0      0      0     45      0\n",
      "       0]\n",
      " [     0      0      0      0      0      0      0      0      0     76\n",
      "       1      0      0      0      0      0      0      0     13     51\n",
      "       0      0     13     10      0      0     14      0     37      0\n",
      "       0]\n",
      " [     1      0      2      0      1      1      0      0      0      0\n",
      "    1277      1      2      0      0      1      2      1     40    188\n",
      "       0      0     22     22      5      3      0      0     42      1\n",
      "       0]\n",
      " [     1      0      4      0      1      0      0      4      0      0\n",
      "       3   2063     50      2      1      1      0      1     61    274\n",
      "       0      0     48     58     10      0      0      0    183      0\n",
      "       0]\n",
      " [     3      2      2      1      4      3      0      0      0      0\n",
      "       4     51   1260     14      3      1      5      1    206    524\n",
      "       2      0    188     85     10      2      2      0    396      3\n",
      "       0]\n",
      " [     1      0      3      1      2      6      0      0      0      0\n",
      "       6      9      4   1154      0      0      1      0    136    584\n",
      "       0      0    463    233      5      1      0      0    623      1\n",
      "       0]\n",
      " [     0      0      0      0      1      3      0      0      0      0\n",
      "       0      0      0      0    232      0      0      0     13      9\n",
      "       0      0     25     19      0      5      0      0     20      0\n",
      "       0]\n",
      " [     0      0      1      0      2      2      0      0      0      0\n",
      "       1      0      0      5      2    381      1      0     90    141\n",
      "       0      1     42     40      0      2      0      0    148      0\n",
      "       0]\n",
      " [     0      1      8      0      2      1      0      0      0      0\n",
      "       3      3      4      1      0      0    587      2     96    295\n",
      "       1      0     12     14      2      0      1      0     78      0\n",
      "       1]\n",
      " [     0      4      2      0      0      0      0      0      0      1\n",
      "       1      1      0      2      0      0      0   1474     45    133\n",
      "       3      0     17     24      1      0      0      0     75      1\n",
      "       0]\n",
      " [   155    111    106      5     76     44     10     14     11      2\n",
      "      92     59    139     84     14     15     78     47   6747   6488\n",
      "     139      3   1405   1307    215     37     11      2   4688     36\n",
      "      58]\n",
      " [   109     78     95     11     16     39      2      8      7      2\n",
      "     187    116    144    132     10     14    228     66   2221 152995\n",
      "      10      2   1572   1452    258     24     14     24   5616     30\n",
      "       7]\n",
      " [     0      0      1      0      0      1      0      0      0      0\n",
      "       0      0      0      0      0      0      1      4    117     55\n",
      "     387      0     25     29      0      0      0      0     52      0\n",
      "      40]\n",
      " [     0      0      0      0      0      2      0      0      0      0\n",
      "       0      0      0      2      0      0      0      0     20     42\n",
      "       1     73     34     44      0      1      4      0     59      0\n",
      "       0]\n",
      " [    19      0      6      2     36     55      0      2      0      0\n",
      "      70     41     54    174      1      7      6      4    773   2923\n",
      "      11      1  14866   1814     73     17     11      0   3115      2\n",
      "       2]\n",
      " [    12      0     10      2     10     35      2      2     41      1\n",
      "      18     36     11     80     10      2      6      8    747   3089\n",
      "       4      8   1766  18154     47     16      5      0   3663      2\n",
      "       2]\n",
      " [     5     28     15      1      5      4      2      3      0      0\n",
      "      11     17     14      5      0      4      3      3    362    953\n",
      "       4      0     83     62   3890      1      1      0    390      4\n",
      "       3]\n",
      " [     0      0      0      0      5      0      0      0      0      2\n",
      "       5      0      1      2      1      1      0      2     67     69\n",
      "       0      0     71     37      2   1497      0      0     76      0\n",
      "       0]\n",
      " [     0      0      0      0      1      0      0      0      0      1\n",
      "       0      0      0      0      0      0      0      0      5      3\n",
      "       1      0      4      1      0      1    181      0      8      0\n",
      "       1]\n",
      " [     1      0      0      0      0      0      0      0      0      0\n",
      "       0      1      0      0      0      0      0      0     25    120\n",
      "       0      0      1      4      0      0      0     37     22      0\n",
      "       0]\n",
      " [    31      2     26      4     24     33      2      9      5     17\n",
      "      39     68    108    142     12      6     53     78   1390   5987\n",
      "      16      0   1874   1916     59     30     21      4  21474     20\n",
      "       3]\n",
      " [     0      0      0      0      1      1      0      0      0      0\n",
      "       1      3      0      3      0      0      0      0     45    129\n",
      "       0      0     19     17      1      0      0      0     88    397\n",
      "       0]\n",
      " [     1     14      0      1      0      1      0      1      0      0\n",
      "       0      0      1      0      0      0      0      7     73     48\n",
      "     139      0      1      5      0      4      1      0      6      0\n",
      "     148]]\n"
     ]
    }
   ],
   "source": [
    "p = clf.predict_proba(X_test, verbose=2) # to predict probability\n",
    "target_names = list(sdf.shalla_cat.astype('category').cat.categories)\n",
    "print(classification_report(np.argmax(y_test, axis=1), y_pred, target_names=target_names))\n",
    "print(confusion_matrix(np.argmax(y_test, axis=1), y_pred))"
   ]
  },
  {
   "cell_type": "code",
   "execution_count": 27,
   "metadata": {},
   "outputs": [
    {
     "name": "stdout",
     "output_type": "stream",
     "text": [
      "307622/307622 [==============================] - 415s 1ms/step\n"
     ]
    }
   ],
   "source": [
    "sig_y_pred = sig_clf.predict(X_test)"
   ]
  },
  {
   "cell_type": "code",
   "execution_count": 28,
   "metadata": {},
   "outputs": [
    {
     "name": "stdout",
     "output_type": "stream",
     "text": [
      "                        precision    recall  f1-score   support\n",
      "\n",
      "                   adv       0.80      0.42      0.55      2542\n",
      "               anonvpn       0.84      0.67      0.75      1396\n",
      "             downloads       0.64      0.38      0.47       835\n",
      "               dynamic       0.83      0.48      0.61       213\n",
      "     education/schools       0.92      0.76      0.84      2014\n",
      "       finance/banking       0.80      0.52      0.63       998\n",
      "     finance/insurance       0.97      0.81      0.88       616\n",
      "  finance/moneylending       0.95      0.78      0.86       760\n",
      "    finance/realestate       0.67      0.39      0.49       276\n",
      "        fortunetelling       0.78      0.34      0.47       215\n",
      "                 forum       0.79      0.75      0.77      1612\n",
      "                gamble       0.86      0.73      0.79      2765\n",
      "    hobby/games-online       0.72      0.44      0.54      2772\n",
      "            hobby/pets       0.67      0.34      0.45      3233\n",
      "             hospitals       0.86      0.69      0.76       327\n",
      "             jobsearch       0.89      0.42      0.57       859\n",
      "                movies       0.67      0.47      0.55      1112\n",
      "                 music       0.87      0.82      0.84      1784\n",
      "                others       0.46      0.34      0.39     22198\n",
      "                  porn       0.85      0.93      0.89    165489\n",
      "               radiotv       0.62      0.44      0.51       712\n",
      "recreation/restaurants       0.83      0.24      0.37       282\n",
      "     recreation/sports       0.67      0.60      0.63     24085\n",
      "     recreation/travel       0.73      0.64      0.68     27789\n",
      "            redirector       0.87      0.65      0.74      5873\n",
      "              religion       0.92      0.80      0.85      1838\n",
      "     science/astronomy       0.71      0.80      0.75       207\n",
      "          sex/lingerie       0.51      0.22      0.31       211\n",
      "              shopping       0.53      0.63      0.58     33453\n",
      "               webmail       0.82      0.55      0.66       705\n",
      "              webradio       0.50      0.40      0.45       451\n",
      "\n",
      "              accuracy                           0.76    307622\n",
      "             macro avg       0.76      0.56      0.63    307622\n",
      "          weighted avg       0.76      0.76      0.76    307622\n",
      "\n",
      "[[  1084      6      5      7      1      5      0      0      0      0\n",
      "       3      3     10      0      1      1      1      3    200   1010\n",
      "       0      0     26     26      2      1      0      0    134     11\n",
      "       2]\n",
      " [     4    973      0      1      0      0      0      0      0      0\n",
      "       0      0      0      0      0      0      0      0     17    383\n",
      "       0      0      1      0     15      0      0      0      2      0\n",
      "       0]\n",
      " [     0      1    351      1      1      2      0      0      0      0\n",
      "       2      0      4      0      0      0      2      8    112    218\n",
      "       0      0     22     10      6      0      1      0     93      1\n",
      "       0]\n",
      " [     0      0      0    118      0      0      1      0      0      0\n",
      "       2      0      2      0      0      0      0      0     22     45\n",
      "       0      0      5      6      3      0      0      0      9      0\n",
      "       0]\n",
      " [     2      0      1      0   1577      1      0      1      0      0\n",
      "       0      0      0      3      0      1      1      1    132     61\n",
      "       0      0    119     29      1      7      1      0     75      1\n",
      "       0]\n",
      " [     0      0      0      0      3    572      0      2      0      0\n",
      "       0      2      0      0      0      0      0      0     99     74\n",
      "       0      0    104     39      0      0      0      0    103      0\n",
      "       0]\n",
      " [     0      0      0      0      0      0    500      2      0      0\n",
      "       0      0      0      0      0      0      0      0     41     19\n",
      "       0      0     12      5      0      0      0      0     37      0\n",
      "       0]\n",
      " [     0      1      1      0      2      1      0    599      0      0\n",
      "       0      4      0      0      0      0      0      0     62     28\n",
      "       0      0      2      5      1      2      0      0     52      0\n",
      "       0]\n",
      " [     0      0      0      0      0      0      1      0    112      0\n",
      "       1      0      0      0      0      2      0      0     26     47\n",
      "       0      0      9     33      0      0      0      0     45      0\n",
      "       0]\n",
      " [     0      0      0      0      0      0      0      0      0     76\n",
      "       1      0      0      0      0      0      0      0     13     51\n",
      "       0      0     13     10      0      0     14      0     37      0\n",
      "       0]\n",
      " [     1      0      2      0      1      1      0      0      0      0\n",
      "    1277      1      2      0      0      1      2      1     40    188\n",
      "       0      0     22     22      5      3      0      0     42      1\n",
      "       0]\n",
      " [     1      0      4      0      1      0      0      4      0      0\n",
      "       3   2063     50      2      1      1      0      1     61    274\n",
      "       0      0     48     58     10      0      0      0    183      0\n",
      "       0]\n",
      " [     3      2      2      1      4      3      0      0      0      0\n",
      "       4     51   1260     14      3      1      5      1    206    524\n",
      "       2      0    188     85     10      2      2      0    396      3\n",
      "       0]\n",
      " [     1      0      3      1      2      6      0      0      0      0\n",
      "       6      9      4   1154      0      0      1      0    136    584\n",
      "       0      0    463    233      5      1      0      0    623      1\n",
      "       0]\n",
      " [     0      0      0      0      1      3      0      0      0      0\n",
      "       0      0      0      0    232      0      0      0     13      9\n",
      "       0      0     25     19      0      5      0      0     20      0\n",
      "       0]\n",
      " [     0      0      1      0      2      2      0      0      0      0\n",
      "       1      0      0      5      2    381      1      0     90    141\n",
      "       0      1     42     40      0      2      0      0    148      0\n",
      "       0]\n",
      " [     0      1      8      0      2      1      0      0      0      0\n",
      "       3      3      4      1      0      0    587      2     96    295\n",
      "       1      0     12     14      2      0      1      0     78      0\n",
      "       1]\n",
      " [     0      4      2      0      0      0      0      0      0      1\n",
      "       1      1      0      2      0      0      0   1474     45    133\n",
      "       3      0     17     24      1      0      0      0     75      1\n",
      "       0]\n",
      " [   155    111    106      5     76     44     10     14     11      2\n",
      "      92     59    139     84     14     15     78     47   6747   6488\n",
      "     139      3   1405   1307    215     37     11      2   4688     36\n",
      "      58]\n",
      " [   109     78     95     11     16     39      2      8      7      2\n",
      "     187    116    144    132     10     14    228     66   2221 152995\n",
      "      10      2   1572   1452    258     24     14     24   5616     30\n",
      "       7]\n",
      " [     0      0      1      0      0      1      0      0      0      0\n",
      "       0      0      0      0      0      0      1      4    117     55\n",
      "     387      0     25     29      0      0      0      0     52      0\n",
      "      40]\n",
      " [     0      0      0      0      0      2      0      0      0      0\n",
      "       0      0      0      2      0      0      0      0     20     42\n",
      "       1     73     34     44      0      1      4      0     59      0\n",
      "       0]\n",
      " [    19      0      6      2     36     55      0      2      0      0\n",
      "      70     41     54    174      1      7      6      4    773   2923\n",
      "      11      1  14866   1814     73     17     11      0   3115      2\n",
      "       2]\n",
      " [    12      0     10      2     10     35      2      2     41      1\n",
      "      18     36     11     80     10      2      6      8    747   3089\n",
      "       4      8   1766  18154     47     16      5      0   3663      2\n",
      "       2]\n",
      " [     5     28     15      1      5      4      2      3      0      0\n",
      "      11     17     14      5      0      4      3      3    362    953\n",
      "       4      0     83     62   3890      1      1      0    390      4\n",
      "       3]\n",
      " [     0      0      0      0      5      0      0      0      0      2\n",
      "       5      0      1      2      1      1      0      2     67     69\n",
      "       0      0     71     37      2   1497      0      0     76      0\n",
      "       0]\n",
      " [     0      0      0      0      1      0      0      0      0      1\n",
      "       0      0      0      0      0      0      0      0      5      3\n",
      "       1      0      4      1      0      1    181      0      8      0\n",
      "       1]\n",
      " [     1      0      0      0      0      0      0      0      0      0\n",
      "       0      1      0      0      0      0      0      0     25    120\n",
      "       0      0      1      4      0      0      0     37     22      0\n",
      "       0]\n",
      " [    31      2     26      4     24     33      2      9      5     17\n",
      "      39     68    108    142     12      6     53     78   1390   5987\n",
      "      16      0   1874   1916     59     30     21      4  21474     20\n",
      "       3]\n",
      " [     0      0      0      0      1      1      0      0      0      0\n",
      "       1      3      0      3      0      0      0      0     45    129\n",
      "       0      0     19     17      1      0      0      0     88    397\n",
      "       0]\n",
      " [     1     14      0      1      0      1      0      1      0      0\n",
      "       0      0      1      0      0      0      0      7     73     48\n",
      "     139      0      1      5      0      4      1      0      6      0\n",
      "     148]]\n"
     ]
    }
   ],
   "source": [
    "target_names = list(sdf.shalla_cat.astype('category').cat.categories)\n",
    "print(classification_report(np.argmax(y_test, axis=1), sig_y_pred, target_names=target_names))\n",
    "print(confusion_matrix(np.argmax(y_test, axis=1), sig_y_pred))"
   ]
  },
  {
   "cell_type": "code",
   "execution_count": 29,
   "metadata": {},
   "outputs": [],
   "source": [
    "def brier_multi(targets, probs):\n",
    "    return np.mean(np.sum((probs - targets)**2, axis=1))"
   ]
  },
  {
   "cell_type": "code",
   "execution_count": 30,
   "metadata": {},
   "outputs": [
    {
     "data": {
      "text/plain": [
       "0.31697795"
      ]
     },
     "execution_count": 30,
     "metadata": {},
     "output_type": "execute_result"
    }
   ],
   "source": [
    "brier_multi(y_test, clf_probs)"
   ]
  },
  {
   "cell_type": "code",
   "execution_count": 31,
   "metadata": {},
   "outputs": [
    {
     "data": {
      "text/plain": [
       "0.3319920792673198"
      ]
     },
     "execution_count": 31,
     "metadata": {},
     "output_type": "execute_result"
    }
   ],
   "source": [
    "brier_multi(y_test, sig_clf_probs)"
   ]
  },
  {
   "cell_type": "markdown",
   "metadata": {},
   "source": [
    "## Save model"
   ]
  },
  {
   "cell_type": "raw",
   "metadata": {},
   "source": [
    "model.save('./models/shalla_cat_lstm_others_2017.h5')\n",
    "words_df = pd.DataFrame(words_list, columns=['vocab'])\n",
    "words_df.to_csv('./models/shalla_cat_vocab_others_2017.csv', index=False, encoding='utf-8')\n",
    "pd.DataFrame(target_names, columns=['shalla_cat']).to_csv('./models/shalla_cat_names_others_2017.csv', index=False)"
   ]
  },
  {
   "cell_type": "markdown",
   "metadata": {},
   "source": [
    "## Plotting ROC Curve"
   ]
  },
  {
   "cell_type": "code",
   "execution_count": 55,
   "metadata": {},
   "outputs": [],
   "source": [
    "y_score = clf_probs"
   ]
  },
  {
   "cell_type": "code",
   "execution_count": 56,
   "metadata": {},
   "outputs": [
    {
     "name": "stderr",
     "output_type": "stream",
     "text": [
      "/opt/venv37/lib/python3.7/site-packages/ipykernel_launcher.py:29: DeprecationWarning: scipy.interp is deprecated and will be removed in SciPy 2.0.0, use numpy.interp instead\n"
     ]
    },
    {
     "data": {
      "image/png": "[encoded data removed]",
      "text/plain": [
       "<Figure size 864x576 with 1 Axes>"
      ]
     },
     "metadata": {
      "needs_background": "light"
     },
     "output_type": "display_data"
    }
   ],
   "source": [
    "import numpy as np\n",
    "from scipy import interp\n",
    "import matplotlib.pyplot as plt\n",
    "from itertools import cycle\n",
    "from sklearn.metrics import roc_curve, auc\n",
    "\n",
    "# Plot linewidth.\n",
    "lw = 2\n",
    "\n",
    "# Compute ROC curve and ROC area for each class\n",
    "fpr = dict()\n",
    "tpr = dict()\n",
    "roc_auc = dict()\n",
    "for i in range(n_classes):\n",
    "    fpr[i], tpr[i], _ = roc_curve(y_test[:, i], y_score[:, i])\n",
    "    roc_auc[i] = auc(fpr[i], tpr[i])\n",
    "# Compute micro-average ROC curve and ROC area\n",
    "fpr[\"micro\"], tpr[\"micro\"], _ = roc_curve(y_test.ravel(), y_score.ravel())\n",
    "roc_auc[\"micro\"] = auc(fpr[\"micro\"], tpr[\"micro\"])\n",
    "\n",
    "# Compute macro-average ROC curve and ROC area\n",
    "\n",
    "# First aggregate all false positive rates\n",
    "all_fpr = np.unique(np.concatenate([fpr[i] for i in range(n_classes)]))\n",
    "\n",
    "# Then interpolate all ROC curves at this points\n",
    "mean_tpr = np.zeros_like(all_fpr)\n",
    "for i in range(n_classes):\n",
    "    mean_tpr += interp(all_fpr, fpr[i], tpr[i])\n",
    "\n",
    "# Finally average it and compute AUC\n",
    "mean_tpr /= n_classes\n",
    "\n",
    "fpr[\"macro\"] = all_fpr\n",
    "tpr[\"macro\"] = mean_tpr\n",
    "roc_auc[\"macro\"] = auc(fpr[\"macro\"], tpr[\"macro\"])\n",
    "\n",
    "# Plot all ROC curves\n",
    "fig = plt.figure(1, figsize=(12, 8))\n",
    "plt.plot(fpr[\"micro\"], tpr[\"micro\"],\n",
    "         label='micro-average ROC curve (area = {0:0.2f})'\n",
    "               ''.format(roc_auc[\"micro\"]),\n",
    "         color='deeppink', linestyle=':', linewidth=4)\n",
    "\n",
    "plt.plot(fpr[\"macro\"], tpr[\"macro\"],\n",
    "         label='macro-average ROC curve (area = {0:0.2f})'\n",
    "               ''.format(roc_auc[\"macro\"]),\n",
    "         color='navy', linestyle=':', linewidth=4)\n",
    "\n",
    "cmap = plt.get_cmap(\"tab20\")\n",
    "colors = cycle([cmap(i) for i in range(n_classes)])\n",
    "\n",
    "for i, color in zip(range(n_classes), colors):\n",
    "    plt.plot(fpr[i], tpr[i], color=color, lw=lw,\n",
    "             label='ROC curve of class {0} (area = {1:0.2f})'\n",
    "             ''.format(class_labels[i], roc_auc[i]))\n",
    "    if i >= 19:\n",
    "        break\n",
    "\n",
    "plt.plot([0, 1], [0, 1], 'k--', lw=lw)\n",
    "plt.xlim([0.0, 1.0])\n",
    "plt.ylim([0.0, 1.05])\n",
    "plt.xlabel('False Positive Rate')\n",
    "plt.ylabel('True Positive Rate')\n",
    "plt.title('ROC Curve -- Shalla LSTM Model')\n",
    "plt.legend(loc=\"lower right\")\n",
    "plt.show()"
   ]
  },
  {
   "cell_type": "code",
   "execution_count": 57,
   "metadata": {},
   "outputs": [
    {
     "name": "stderr",
     "output_type": "stream",
     "text": [
      "The PostScript backend does not support transparency; partially transparent artists will be rendered opaque.\n",
      "The PostScript backend does not support transparency; partially transparent artists will be rendered opaque.\n"
     ]
    }
   ],
   "source": [
    "fig.savefig('./roc-shalla-lstm.eps', format='eps', dpi=300, bbox_inches=\"tight\", orientation='landscape');"
   ]
  },
  {
   "cell_type": "code",
   "execution_count": 58,
   "metadata": {},
   "outputs": [],
   "source": [
    "y_score = sig_clf_probs"
   ]
  },
  {
   "cell_type": "code",
   "execution_count": 59,
   "metadata": {},
   "outputs": [
    {
     "name": "stderr",
     "output_type": "stream",
     "text": [
      "/opt/venv37/lib/python3.7/site-packages/ipykernel_launcher.py:23: DeprecationWarning: scipy.interp is deprecated and will be removed in SciPy 2.0.0, use numpy.interp instead\n"
     ]
    },
    {
     "data": {
      "image/png": "[encoded data removed]",
      "text/plain": [
       "<Figure size 864x576 with 1 Axes>"
      ]
     },
     "metadata": {
      "needs_background": "light"
     },
     "output_type": "display_data"
    }
   ],
   "source": [
    "# Plot linewidth.\n",
    "lw = 2\n",
    "\n",
    "# Compute ROC curve and ROC area for each class\n",
    "fpr = dict()\n",
    "tpr = dict()\n",
    "roc_auc = dict()\n",
    "for i in range(n_classes):\n",
    "    fpr[i], tpr[i], _ = roc_curve(y_test[:, i], y_score[:, i])\n",
    "    roc_auc[i] = auc(fpr[i], tpr[i])\n",
    "# Compute micro-average ROC curve and ROC area\n",
    "fpr[\"micro\"], tpr[\"micro\"], _ = roc_curve(y_test.ravel(), y_score.ravel())\n",
    "roc_auc[\"micro\"] = auc(fpr[\"micro\"], tpr[\"micro\"])\n",
    "\n",
    "# Compute macro-average ROC curve and ROC area\n",
    "\n",
    "# First aggregate all false positive rates\n",
    "all_fpr = np.unique(np.concatenate([fpr[i] for i in range(n_classes)]))\n",
    "\n",
    "# Then interpolate all ROC curves at this points\n",
    "mean_tpr = np.zeros_like(all_fpr)\n",
    "for i in range(n_classes):\n",
    "    mean_tpr += interp(all_fpr, fpr[i], tpr[i])\n",
    "\n",
    "# Finally average it and compute AUC\n",
    "mean_tpr /= n_classes\n",
    "\n",
    "fpr[\"macro\"] = all_fpr\n",
    "tpr[\"macro\"] = mean_tpr\n",
    "roc_auc[\"macro\"] = auc(fpr[\"macro\"], tpr[\"macro\"])\n",
    "\n",
    "# Plot all ROC curves\n",
    "fig = plt.figure(1, figsize=(12, 8))\n",
    "plt.plot(fpr[\"micro\"], tpr[\"micro\"],\n",
    "         label='micro-average ROC curve (area = {0:0.2f})'\n",
    "               ''.format(roc_auc[\"micro\"]),\n",
    "         color='deeppink', linestyle=':', linewidth=4)\n",
    "\n",
    "plt.plot(fpr[\"macro\"], tpr[\"macro\"],\n",
    "         label='macro-average ROC curve (area = {0:0.2f})'\n",
    "               ''.format(roc_auc[\"macro\"]),\n",
    "         color='navy', linestyle=':', linewidth=4)\n",
    "\n",
    "cmap = plt.get_cmap(\"tab20\")\n",
    "colors = cycle([cmap(i) for i in range(n_classes)])\n",
    "\n",
    "for i, color in zip(range(n_classes), colors):\n",
    "    plt.plot(fpr[i], tpr[i], color=color, lw=lw,\n",
    "             label='ROC curve of class {0} (area = {1:0.2f})'\n",
    "             ''.format(class_labels[i], roc_auc[i]))\n",
    "    if i >= 19:\n",
    "        break\n",
    "\n",
    "plt.plot([0, 1], [0, 1], 'k--', lw=lw)\n",
    "plt.xlim([0.0, 1.0])\n",
    "plt.ylim([0.0, 1.05])\n",
    "plt.xlabel('False Positive Rate')\n",
    "plt.ylabel('True Positive Rate')\n",
    "plt.title('ROC Curve -- Shalla LSTM Model (Calibrated)')\n",
    "plt.legend(loc=\"lower right\")\n",
    "plt.show()"
   ]
  },
  {
   "cell_type": "code",
   "execution_count": 62,
   "metadata": {},
   "outputs": [
    {
     "name": "stderr",
     "output_type": "stream",
     "text": [
      "The PostScript backend does not support transparency; partially transparent artists will be rendered opaque.\n",
      "The PostScript backend does not support transparency; partially transparent artists will be rendered opaque.\n"
     ]
    }
   ],
   "source": [
    "fig.savefig('./roc-shalla-lstm-calibrated.eps', format='eps', dpi=300, bbox_inches=\"tight\", orientation='landscape');"
   ]
  }
 ],
 "metadata": {
  "kernelspec": {
   "display_name": "Python 3",
   "language": "python",
   "name": "python3"
  },
  "language_info": {
   "codemirror_mode": {
    "name": "ipython",
    "version": 3
   },
   "file_extension": ".py",
   "mimetype": "text/x-python",
   "name": "python",
   "nbconvert_exporter": "python",
   "pygments_lexer": "ipython3",
   "version": "3.7.7"
  }
 },
 "nbformat": 4,
 "nbformat_minor": 2
}
