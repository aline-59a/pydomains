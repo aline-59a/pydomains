{
 "cells": [
  {
   "cell_type": "markdown",
   "metadata": {},
   "source": [
    "### Toulouse/Squidguard Model\n"
   ]
  },
  {
   "cell_type": "code",
   "execution_count": 1,
   "metadata": {},
   "outputs": [
    {
     "data": {
      "text/html": [
       "<div>\n",
       "<style scoped>\n",
       "    .dataframe tbody tr th:only-of-type {\n",
       "        vertical-align: middle;\n",
       "    }\n",
       "\n",
       "    .dataframe tbody tr th {\n",
       "        vertical-align: top;\n",
       "    }\n",
       "\n",
       "    .dataframe thead th {\n",
       "        text-align: right;\n",
       "    }\n",
       "</style>\n",
       "<table border=\"1\" class=\"dataframe\">\n",
       "  <thead>\n",
       "    <tr style=\"text-align: right;\">\n",
       "      <th></th>\n",
       "      <th>domain</th>\n",
       "      <th>blacklists_cat</th>\n",
       "    </tr>\n",
       "  </thead>\n",
       "  <tbody>\n",
       "    <tr>\n",
       "      <th>0</th>\n",
       "      <td>59.52.114.68</td>\n",
       "      <td>phishing</td>\n",
       "    </tr>\n",
       "    <tr>\n",
       "      <th>1</th>\n",
       "      <td>eroticalee1.blogspot.ru</td>\n",
       "      <td>adult</td>\n",
       "    </tr>\n",
       "    <tr>\n",
       "      <th>2</th>\n",
       "      <td>jstanothergrly.blogspot.com.br</td>\n",
       "      <td>adult</td>\n",
       "    </tr>\n",
       "    <tr>\n",
       "      <th>3</th>\n",
       "      <td>youmightbest.tk</td>\n",
       "      <td>redirector|strict_redirector|strong_redirector</td>\n",
       "    </tr>\n",
       "    <tr>\n",
       "      <th>4</th>\n",
       "      <td>jstanothergrly.blogspot.com.by</td>\n",
       "      <td>adult</td>\n",
       "    </tr>\n",
       "    <tr>\n",
       "      <th>...</th>\n",
       "      <td>...</td>\n",
       "      <td>...</td>\n",
       "    </tr>\n",
       "    <tr>\n",
       "      <th>2140116</th>\n",
       "      <td>aqnjmquscyduyhw.blogspot.com.ng</td>\n",
       "      <td>adult</td>\n",
       "    </tr>\n",
       "    <tr>\n",
       "      <th>2140117</th>\n",
       "      <td>sexyhotmalemodels.blogspot.ug</td>\n",
       "      <td>adult</td>\n",
       "    </tr>\n",
       "    <tr>\n",
       "      <th>2140118</th>\n",
       "      <td>sex-in-sydney.blogspot.com.cy</td>\n",
       "      <td>adult</td>\n",
       "    </tr>\n",
       "    <tr>\n",
       "      <th>2140119</th>\n",
       "      <td>ipornx.blogspot.pe</td>\n",
       "      <td>adult</td>\n",
       "    </tr>\n",
       "    <tr>\n",
       "      <th>2140120</th>\n",
       "      <td>minousecrets.blogspot.com.ar</td>\n",
       "      <td>adult</td>\n",
       "    </tr>\n",
       "  </tbody>\n",
       "</table>\n",
       "<p>2140121 rows × 2 columns</p>\n",
       "</div>"
      ],
      "text/plain": [
       "                                  domain  \\\n",
       "0                           59.52.114.68   \n",
       "1                eroticalee1.blogspot.ru   \n",
       "2         jstanothergrly.blogspot.com.br   \n",
       "3                        youmightbest.tk   \n",
       "4         jstanothergrly.blogspot.com.by   \n",
       "...                                  ...   \n",
       "2140116  aqnjmquscyduyhw.blogspot.com.ng   \n",
       "2140117    sexyhotmalemodels.blogspot.ug   \n",
       "2140118    sex-in-sydney.blogspot.com.cy   \n",
       "2140119               ipornx.blogspot.pe   \n",
       "2140120     minousecrets.blogspot.com.ar   \n",
       "\n",
       "                                         blacklists_cat  \n",
       "0                                              phishing  \n",
       "1                                                 adult  \n",
       "2                                                 adult  \n",
       "3        redirector|strict_redirector|strong_redirector  \n",
       "4                                                 adult  \n",
       "...                                                 ...  \n",
       "2140116                                           adult  \n",
       "2140117                                           adult  \n",
       "2140118                                           adult  \n",
       "2140119                                           adult  \n",
       "2140120                                           adult  \n",
       "\n",
       "[2140121 rows x 2 columns]"
      ]
     },
     "execution_count": 1,
     "metadata": {},
     "output_type": "execute_result"
    }
   ],
   "source": [
    "from __future__ import print_function\n",
    "\n",
    "import numpy as np\n",
    "import tensorflow as tf\n",
    "import pandas as pd\n",
    "from sklearn.feature_extraction.text import CountVectorizer\n",
    "from sklearn.model_selection import train_test_split\n",
    "from sklearn.metrics import classification_report,confusion_matrix\n",
    "\n",
    "# https://machinelearningmastery.com/reproducible-results-neural-networks-keras/\n",
    "np.random.seed(1)\n",
    "tf.random.set_seed(2)\n",
    "\n",
    "NGRAMS = 2\n",
    "FEATURE_LEN = 128\n",
    "EPOCHS = 5\n",
    "\n",
    "# Blacklists\n",
    "df = pd.read_csv('../train-test/data/blacklists.csv.bz2')\n",
    "#df = df.sample(100000, random_state=21)\n",
    "df\n"
   ]
  },
  {
   "cell_type": "code",
   "execution_count": 2,
   "metadata": {},
   "outputs": [
    {
     "data": {
      "text/html": [
       "<div>\n",
       "<style scoped>\n",
       "    .dataframe tbody tr th:only-of-type {\n",
       "        vertical-align: middle;\n",
       "    }\n",
       "\n",
       "    .dataframe tbody tr th {\n",
       "        vertical-align: top;\n",
       "    }\n",
       "\n",
       "    .dataframe thead th {\n",
       "        text-align: right;\n",
       "    }\n",
       "</style>\n",
       "<table border=\"1\" class=\"dataframe\">\n",
       "  <thead>\n",
       "    <tr style=\"text-align: right;\">\n",
       "      <th></th>\n",
       "      <th>domain</th>\n",
       "      <th>blacklists_cat</th>\n",
       "      <th>cat_count</th>\n",
       "    </tr>\n",
       "  </thead>\n",
       "  <tbody>\n",
       "    <tr>\n",
       "      <th>0</th>\n",
       "      <td>59.52.114.68</td>\n",
       "      <td>phishing</td>\n",
       "      <td>1</td>\n",
       "    </tr>\n",
       "    <tr>\n",
       "      <th>1</th>\n",
       "      <td>eroticalee1.blogspot.ru</td>\n",
       "      <td>adult</td>\n",
       "      <td>1</td>\n",
       "    </tr>\n",
       "    <tr>\n",
       "      <th>2</th>\n",
       "      <td>jstanothergrly.blogspot.com.br</td>\n",
       "      <td>adult</td>\n",
       "      <td>1</td>\n",
       "    </tr>\n",
       "    <tr>\n",
       "      <th>4</th>\n",
       "      <td>jstanothergrly.blogspot.com.by</td>\n",
       "      <td>adult</td>\n",
       "      <td>1</td>\n",
       "    </tr>\n",
       "    <tr>\n",
       "      <th>5</th>\n",
       "      <td>edwardmax1.blogspot.com.au</td>\n",
       "      <td>adult</td>\n",
       "      <td>1</td>\n",
       "    </tr>\n",
       "    <tr>\n",
       "      <th>...</th>\n",
       "      <td>...</td>\n",
       "      <td>...</td>\n",
       "      <td>...</td>\n",
       "    </tr>\n",
       "    <tr>\n",
       "      <th>2140116</th>\n",
       "      <td>aqnjmquscyduyhw.blogspot.com.ng</td>\n",
       "      <td>adult</td>\n",
       "      <td>1</td>\n",
       "    </tr>\n",
       "    <tr>\n",
       "      <th>2140117</th>\n",
       "      <td>sexyhotmalemodels.blogspot.ug</td>\n",
       "      <td>adult</td>\n",
       "      <td>1</td>\n",
       "    </tr>\n",
       "    <tr>\n",
       "      <th>2140118</th>\n",
       "      <td>sex-in-sydney.blogspot.com.cy</td>\n",
       "      <td>adult</td>\n",
       "      <td>1</td>\n",
       "    </tr>\n",
       "    <tr>\n",
       "      <th>2140119</th>\n",
       "      <td>ipornx.blogspot.pe</td>\n",
       "      <td>adult</td>\n",
       "      <td>1</td>\n",
       "    </tr>\n",
       "    <tr>\n",
       "      <th>2140120</th>\n",
       "      <td>minousecrets.blogspot.com.ar</td>\n",
       "      <td>adult</td>\n",
       "      <td>1</td>\n",
       "    </tr>\n",
       "  </tbody>\n",
       "</table>\n",
       "<p>2012156 rows × 3 columns</p>\n",
       "</div>"
      ],
      "text/plain": [
       "                                  domain blacklists_cat  cat_count\n",
       "0                           59.52.114.68       phishing          1\n",
       "1                eroticalee1.blogspot.ru          adult          1\n",
       "2         jstanothergrly.blogspot.com.br          adult          1\n",
       "4         jstanothergrly.blogspot.com.by          adult          1\n",
       "5             edwardmax1.blogspot.com.au          adult          1\n",
       "...                                  ...            ...        ...\n",
       "2140116  aqnjmquscyduyhw.blogspot.com.ng          adult          1\n",
       "2140117    sexyhotmalemodels.blogspot.ug          adult          1\n",
       "2140118    sex-in-sydney.blogspot.com.cy          adult          1\n",
       "2140119               ipornx.blogspot.pe          adult          1\n",
       "2140120     minousecrets.blogspot.com.ar          adult          1\n",
       "\n",
       "[2012156 rows x 3 columns]"
      ]
     },
     "execution_count": 2,
     "metadata": {},
     "output_type": "execute_result"
    }
   ],
   "source": [
    "df['cat_count'] = df.blacklists_cat.apply(lambda c: len(c.split('|')))\n",
    "sdf = df[df.cat_count == 1]\n",
    "sdf"
   ]
  },
  {
   "cell_type": "code",
   "execution_count": 3,
   "metadata": {},
   "outputs": [
    {
     "data": {
      "text/html": [
       "<div>\n",
       "<style scoped>\n",
       "    .dataframe tbody tr th:only-of-type {\n",
       "        vertical-align: middle;\n",
       "    }\n",
       "\n",
       "    .dataframe tbody tr th {\n",
       "        vertical-align: top;\n",
       "    }\n",
       "\n",
       "    .dataframe thead th {\n",
       "        text-align: right;\n",
       "    }\n",
       "</style>\n",
       "<table border=\"1\" class=\"dataframe\">\n",
       "  <thead>\n",
       "    <tr style=\"text-align: right;\">\n",
       "      <th></th>\n",
       "      <th>domain</th>\n",
       "    </tr>\n",
       "    <tr>\n",
       "      <th>blacklists_cat</th>\n",
       "      <th></th>\n",
       "    </tr>\n",
       "  </thead>\n",
       "  <tbody>\n",
       "    <tr>\n",
       "      <th>adult</th>\n",
       "      <td>1870741</td>\n",
       "    </tr>\n",
       "    <tr>\n",
       "      <th>agressif</th>\n",
       "      <td>304</td>\n",
       "    </tr>\n",
       "    <tr>\n",
       "      <th>arjel</th>\n",
       "      <td>11</td>\n",
       "    </tr>\n",
       "    <tr>\n",
       "      <th>associations_religieuses</th>\n",
       "      <td>1</td>\n",
       "    </tr>\n",
       "    <tr>\n",
       "      <th>astrology</th>\n",
       "      <td>27</td>\n",
       "    </tr>\n",
       "    <tr>\n",
       "      <th>audio-video</th>\n",
       "      <td>2977</td>\n",
       "    </tr>\n",
       "    <tr>\n",
       "      <th>bank</th>\n",
       "      <td>1689</td>\n",
       "    </tr>\n",
       "    <tr>\n",
       "      <th>bitcoin</th>\n",
       "      <td>251</td>\n",
       "    </tr>\n",
       "    <tr>\n",
       "      <th>blog</th>\n",
       "      <td>1425</td>\n",
       "    </tr>\n",
       "    <tr>\n",
       "      <th>celebrity</th>\n",
       "      <td>537</td>\n",
       "    </tr>\n",
       "    <tr>\n",
       "      <th>chat</th>\n",
       "      <td>173</td>\n",
       "    </tr>\n",
       "    <tr>\n",
       "      <th>child</th>\n",
       "      <td>56</td>\n",
       "    </tr>\n",
       "    <tr>\n",
       "      <th>cleaning</th>\n",
       "      <td>163</td>\n",
       "    </tr>\n",
       "    <tr>\n",
       "      <th>cooking</th>\n",
       "      <td>16</td>\n",
       "    </tr>\n",
       "    <tr>\n",
       "      <th>dangerous_material</th>\n",
       "      <td>20</td>\n",
       "    </tr>\n",
       "    <tr>\n",
       "      <th>dating</th>\n",
       "      <td>3301</td>\n",
       "    </tr>\n",
       "    <tr>\n",
       "      <th>ddos</th>\n",
       "      <td>227</td>\n",
       "    </tr>\n",
       "    <tr>\n",
       "      <th>download</th>\n",
       "      <td>50</td>\n",
       "    </tr>\n",
       "    <tr>\n",
       "      <th>drogue</th>\n",
       "      <td>564</td>\n",
       "    </tr>\n",
       "    <tr>\n",
       "      <th>educational_games</th>\n",
       "      <td>4</td>\n",
       "    </tr>\n",
       "    <tr>\n",
       "      <th>filehosting</th>\n",
       "      <td>666</td>\n",
       "    </tr>\n",
       "    <tr>\n",
       "      <th>financial</th>\n",
       "      <td>71</td>\n",
       "    </tr>\n",
       "    <tr>\n",
       "      <th>forums</th>\n",
       "      <td>133</td>\n",
       "    </tr>\n",
       "    <tr>\n",
       "      <th>gambling</th>\n",
       "      <td>1012</td>\n",
       "    </tr>\n",
       "    <tr>\n",
       "      <th>games</th>\n",
       "      <td>9357</td>\n",
       "    </tr>\n",
       "    <tr>\n",
       "      <th>hacking</th>\n",
       "      <td>211</td>\n",
       "    </tr>\n",
       "    <tr>\n",
       "      <th>jobsearch</th>\n",
       "      <td>376</td>\n",
       "    </tr>\n",
       "    <tr>\n",
       "      <th>lingerie</th>\n",
       "      <td>38</td>\n",
       "    </tr>\n",
       "    <tr>\n",
       "      <th>liste_blanche</th>\n",
       "      <td>5</td>\n",
       "    </tr>\n",
       "    <tr>\n",
       "      <th>liste_bu</th>\n",
       "      <td>2416</td>\n",
       "    </tr>\n",
       "    <tr>\n",
       "      <th>malware</th>\n",
       "      <td>4463</td>\n",
       "    </tr>\n",
       "    <tr>\n",
       "      <th>manga</th>\n",
       "      <td>499</td>\n",
       "    </tr>\n",
       "    <tr>\n",
       "      <th>marketingware</th>\n",
       "      <td>786</td>\n",
       "    </tr>\n",
       "    <tr>\n",
       "      <th>mixed_adult</th>\n",
       "      <td>49</td>\n",
       "    </tr>\n",
       "    <tr>\n",
       "      <th>mobile-phone</th>\n",
       "      <td>40</td>\n",
       "    </tr>\n",
       "    <tr>\n",
       "      <th>phishing</th>\n",
       "      <td>62712</td>\n",
       "    </tr>\n",
       "    <tr>\n",
       "      <th>press</th>\n",
       "      <td>4410</td>\n",
       "    </tr>\n",
       "    <tr>\n",
       "      <th>publicite</th>\n",
       "      <td>1091</td>\n",
       "    </tr>\n",
       "    <tr>\n",
       "      <th>radio</th>\n",
       "      <td>406</td>\n",
       "    </tr>\n",
       "    <tr>\n",
       "      <th>reaffected</th>\n",
       "      <td>6</td>\n",
       "    </tr>\n",
       "    <tr>\n",
       "      <th>remote-control</th>\n",
       "      <td>40</td>\n",
       "    </tr>\n",
       "    <tr>\n",
       "      <th>sect</th>\n",
       "      <td>140</td>\n",
       "    </tr>\n",
       "    <tr>\n",
       "      <th>sexual_education</th>\n",
       "      <td>6</td>\n",
       "    </tr>\n",
       "    <tr>\n",
       "      <th>shopping</th>\n",
       "      <td>36331</td>\n",
       "    </tr>\n",
       "    <tr>\n",
       "      <th>shortener</th>\n",
       "      <td>256</td>\n",
       "    </tr>\n",
       "    <tr>\n",
       "      <th>social_networks</th>\n",
       "      <td>566</td>\n",
       "    </tr>\n",
       "    <tr>\n",
       "      <th>special</th>\n",
       "      <td>1</td>\n",
       "    </tr>\n",
       "    <tr>\n",
       "      <th>sports</th>\n",
       "      <td>2261</td>\n",
       "    </tr>\n",
       "    <tr>\n",
       "      <th>translation</th>\n",
       "      <td>160</td>\n",
       "    </tr>\n",
       "    <tr>\n",
       "      <th>tricheur</th>\n",
       "      <td>27</td>\n",
       "    </tr>\n",
       "    <tr>\n",
       "      <th>update</th>\n",
       "      <td>5</td>\n",
       "    </tr>\n",
       "    <tr>\n",
       "      <th>warez</th>\n",
       "      <td>757</td>\n",
       "    </tr>\n",
       "    <tr>\n",
       "      <th>webmail</th>\n",
       "      <td>322</td>\n",
       "    </tr>\n",
       "  </tbody>\n",
       "</table>\n",
       "</div>"
      ],
      "text/plain": [
       "                           domain\n",
       "blacklists_cat                   \n",
       "adult                     1870741\n",
       "agressif                      304\n",
       "arjel                          11\n",
       "associations_religieuses        1\n",
       "astrology                      27\n",
       "audio-video                  2977\n",
       "bank                         1689\n",
       "bitcoin                       251\n",
       "blog                         1425\n",
       "celebrity                     537\n",
       "chat                          173\n",
       "child                          56\n",
       "cleaning                      163\n",
       "cooking                        16\n",
       "dangerous_material             20\n",
       "dating                       3301\n",
       "ddos                          227\n",
       "download                       50\n",
       "drogue                        564\n",
       "educational_games               4\n",
       "filehosting                   666\n",
       "financial                      71\n",
       "forums                        133\n",
       "gambling                     1012\n",
       "games                        9357\n",
       "hacking                       211\n",
       "jobsearch                     376\n",
       "lingerie                       38\n",
       "liste_blanche                   5\n",
       "liste_bu                     2416\n",
       "malware                      4463\n",
       "manga                         499\n",
       "marketingware                 786\n",
       "mixed_adult                    49\n",
       "mobile-phone                   40\n",
       "phishing                    62712\n",
       "press                        4410\n",
       "publicite                    1091\n",
       "radio                         406\n",
       "reaffected                      6\n",
       "remote-control                 40\n",
       "sect                          140\n",
       "sexual_education                6\n",
       "shopping                    36331\n",
       "shortener                     256\n",
       "social_networks               566\n",
       "special                         1\n",
       "sports                       2261\n",
       "translation                   160\n",
       "tricheur                       27\n",
       "update                          5\n",
       "warez                         757\n",
       "webmail                       322"
      ]
     },
     "execution_count": 3,
     "metadata": {},
     "output_type": "execute_result"
    }
   ],
   "source": [
    "dom_group = sdf.groupby('blacklists_cat').agg({'domain': 'count'})\n",
    "dom_group"
   ]
  },
  {
   "cell_type": "markdown",
   "metadata": {},
   "source": [
    "### Take out categories that have less than 1000 domains."
   ]
  },
  {
   "cell_type": "code",
   "execution_count": 4,
   "metadata": {},
   "outputs": [],
   "source": [
    "filter_cat = list(dom_group[dom_group.domain > 1000].index)\n",
    "#filter_cat = list(dom_group[dom_group.domain > 100].index)"
   ]
  },
  {
   "cell_type": "markdown",
   "metadata": {},
   "source": [
    "### Take out categories that have recall < 0.3 (based on previous iterations of the model)"
   ]
  },
  {
   "cell_type": "code",
   "execution_count": 5,
   "metadata": {},
   "outputs": [],
   "source": [
    "excat = ['audio-video', 'blog', 'dating', 'liste_bu', 'sports', 'publicite']"
   ]
  },
  {
   "cell_type": "code",
   "execution_count": 6,
   "metadata": {},
   "outputs": [
    {
     "data": {
      "text/plain": [
       "['adult',\n",
       " 'bank',\n",
       " 'gambling',\n",
       " 'games',\n",
       " 'malware',\n",
       " 'phishing',\n",
       " 'press',\n",
       " 'shopping']"
      ]
     },
     "execution_count": 6,
     "metadata": {},
     "output_type": "execute_result"
    }
   ],
   "source": [
    "filter_cat = [x for x in filter_cat if x not in excat]\n",
    "filter_cat"
   ]
  },
  {
   "cell_type": "code",
   "execution_count": 7,
   "metadata": {},
   "outputs": [
    {
     "name": "stderr",
     "output_type": "stream",
     "text": [
      "/opt/venv37/lib/python3.7/site-packages/pandas/core/indexing.py:966: SettingWithCopyWarning: \n",
      "A value is trying to be set on a copy of a slice from a DataFrame.\n",
      "Try using .loc[row_indexer,col_indexer] = value instead\n",
      "\n",
      "See the caveats in the documentation: https://pandas.pydata.org/pandas-docs/stable/user_guide/indexing.html#returning-a-view-versus-a-copy\n",
      "  self.obj[item] = s\n"
     ]
    }
   ],
   "source": [
    "sdf.loc[sdf.blacklists_cat.isin(filter_cat) == False, 'blacklists_cat'] = 'others'"
   ]
  },
  {
   "cell_type": "code",
   "execution_count": 8,
   "metadata": {},
   "outputs": [
    {
     "data": {
      "text/html": [
       "<div>\n",
       "<style scoped>\n",
       "    .dataframe tbody tr th:only-of-type {\n",
       "        vertical-align: middle;\n",
       "    }\n",
       "\n",
       "    .dataframe tbody tr th {\n",
       "        vertical-align: top;\n",
       "    }\n",
       "\n",
       "    .dataframe thead th {\n",
       "        text-align: right;\n",
       "    }\n",
       "</style>\n",
       "<table border=\"1\" class=\"dataframe\">\n",
       "  <thead>\n",
       "    <tr style=\"text-align: right;\">\n",
       "      <th></th>\n",
       "      <th>domain</th>\n",
       "    </tr>\n",
       "    <tr>\n",
       "      <th>blacklists_cat</th>\n",
       "      <th></th>\n",
       "    </tr>\n",
       "  </thead>\n",
       "  <tbody>\n",
       "    <tr>\n",
       "      <th>adult</th>\n",
       "      <td>1870741</td>\n",
       "    </tr>\n",
       "    <tr>\n",
       "      <th>bank</th>\n",
       "      <td>1689</td>\n",
       "    </tr>\n",
       "    <tr>\n",
       "      <th>gambling</th>\n",
       "      <td>1012</td>\n",
       "    </tr>\n",
       "    <tr>\n",
       "      <th>games</th>\n",
       "      <td>9357</td>\n",
       "    </tr>\n",
       "    <tr>\n",
       "      <th>malware</th>\n",
       "      <td>4463</td>\n",
       "    </tr>\n",
       "    <tr>\n",
       "      <th>others</th>\n",
       "      <td>21441</td>\n",
       "    </tr>\n",
       "    <tr>\n",
       "      <th>phishing</th>\n",
       "      <td>62712</td>\n",
       "    </tr>\n",
       "    <tr>\n",
       "      <th>press</th>\n",
       "      <td>4410</td>\n",
       "    </tr>\n",
       "    <tr>\n",
       "      <th>shopping</th>\n",
       "      <td>36331</td>\n",
       "    </tr>\n",
       "  </tbody>\n",
       "</table>\n",
       "</div>"
      ],
      "text/plain": [
       "                 domain\n",
       "blacklists_cat         \n",
       "adult           1870741\n",
       "bank               1689\n",
       "gambling           1012\n",
       "games              9357\n",
       "malware            4463\n",
       "others            21441\n",
       "phishing          62712\n",
       "press              4410\n",
       "shopping          36331"
      ]
     },
     "execution_count": 8,
     "metadata": {},
     "output_type": "execute_result"
    }
   ],
   "source": [
    "sdf.groupby('blacklists_cat').agg({'domain': 'count'})"
   ]
  },
  {
   "cell_type": "markdown",
   "metadata": {},
   "source": [
    "## Preprocessing the input data"
   ]
  },
  {
   "cell_type": "code",
   "execution_count": 9,
   "metadata": {},
   "outputs": [
    {
     "name": "stdout",
     "output_type": "stream",
     "text": [
      "num_words = 1498\n"
     ]
    }
   ],
   "source": [
    "# build n-gram list\n",
    "#vect = CountVectorizer(analyzer='char', max_df=0.3, min_df=3, ngram_range=(NGRAMS, NGRAMS), lowercase=False) \n",
    "vect = CountVectorizer(analyzer='char', ngram_range=(NGRAMS, NGRAMS), lowercase=False) \n",
    "a = vect.fit_transform(sdf.domain)\n",
    "vocab = vect.vocabulary_\n",
    "\n",
    "# sort n-gram by freq (highest -> lowest)\n",
    "words = []\n",
    "for b in vocab:\n",
    "    c = vocab[b]\n",
    "    #print(b, c, a[:, c].sum())\n",
    "    words.append((a[:, c].sum(), b))\n",
    "    #break\n",
    "words = sorted(words, reverse=True)\n",
    "words_list = [w[1] for w in words]\n",
    "num_words = len(words_list)\n",
    "print(\"num_words = %d\" % num_words)\n",
    "\n",
    "\n",
    "def find_ngrams(text, n):\n",
    "    a = zip(*[text[i:] for i in range(n)])\n",
    "    wi = []\n",
    "    for i in a:\n",
    "        w = ''.join(i)\n",
    "        try:\n",
    "            idx = words_list.index(w)\n",
    "        except:\n",
    "            idx = 0\n",
    "        wi.append(idx)\n",
    "    return wi\n",
    "\n",
    "# build X from index of n-gram sequence\n",
    "X = np.array(sdf.domain.apply(lambda c: find_ngrams(c, NGRAMS)))\n",
    "\n",
    "# check max/avg feature\n",
    "X_len = []\n",
    "for x in X:\n",
    "    X_len.append(len(x))\n",
    "\n",
    "max_feature_len = max(X_len)\n",
    "avg_feature_len = int(np.mean(X_len))"
   ]
  },
  {
   "cell_type": "code",
   "execution_count": 10,
   "metadata": {},
   "outputs": [
    {
     "name": "stdout",
     "output_type": "stream",
     "text": [
      "Max feature len = 137, Avg. feature len = 23\n"
     ]
    }
   ],
   "source": [
    "print(\"Max feature len = %d, Avg. feature len = %d\" % (max_feature_len, avg_feature_len))\n",
    "class_labels = sdf.blacklists_cat.astype('category').cat.categories\n",
    "y = np.array(sdf.blacklists_cat.astype('category').cat.codes)\n",
    "\n",
    "# Split train and test dataset\n",
    "X_train_valid,  X_test, y_train_valid, y_test = train_test_split(X, y, test_size=0.2, random_state=21, stratify=y)\n",
    "X_train,  X_valid, y_train, y_valid = train_test_split(X_train_valid, y_train_valid, test_size=0.2, random_state=21, stratify=y_train_valid)\n",
    "#X_train,  X_test, y_train, y_test = train_test_split(X, y, test_size=0.2)\n",
    "# backup\n",
    "y_train_lab = y_train\n",
    "y_test_lab = y_test"
   ]
  },
  {
   "cell_type": "code",
   "execution_count": 11,
   "metadata": {},
   "outputs": [
    {
     "data": {
      "text/plain": [
       "{0: 374149,\n",
       " 1: 338,\n",
       " 2: 202,\n",
       " 3: 1871,\n",
       " 4: 893,\n",
       " 5: 4288,\n",
       " 6: 12543,\n",
       " 7: 882,\n",
       " 8: 7266}"
      ]
     },
     "execution_count": 11,
     "metadata": {},
     "output_type": "execute_result"
    }
   ],
   "source": [
    "unique, counts = np.unique(y_test, return_counts=True)\n",
    "dict(zip(unique, counts))"
   ]
  },
  {
   "cell_type": "code",
   "execution_count": 12,
   "metadata": {},
   "outputs": [
    {
     "data": {
      "text/plain": [
       "{0: 1197274,\n",
       " 1: 1081,\n",
       " 2: 648,\n",
       " 3: 5989,\n",
       " 4: 2856,\n",
       " 5: 13722,\n",
       " 6: 40135,\n",
       " 7: 2822,\n",
       " 8: 23252}"
      ]
     },
     "execution_count": 12,
     "metadata": {},
     "output_type": "execute_result"
    }
   ],
   "source": [
    "unique, counts = np.unique(y_train, return_counts=True)\n",
    "dict(zip(unique, counts))"
   ]
  },
  {
   "cell_type": "markdown",
   "metadata": {},
   "source": [
    "## Train a LSTM model"
   ]
  },
  {
   "cell_type": "code",
   "execution_count": 13,
   "metadata": {},
   "outputs": [
    {
     "name": "stderr",
     "output_type": "stream",
     "text": [
      "Using TensorFlow backend.\n"
     ]
    },
    {
     "name": "stdout",
     "output_type": "stream",
     "text": [
      "1609724 train+valid sequences\n",
      "1287779 train sequences\n",
      "321945 valid sequences\n",
      "402432 test sequences\n",
      "Pad sequences (samples x time)\n",
      "X_train_valid shape: (1609724, 128)\n",
      "X_train shape: (1287779, 128)\n",
      "X_valid shape: (321945, 128)\n",
      "X_test shape: (402432, 128)\n",
      "9 classes\n",
      "Convert class vector to binary class matrix (for use with categorical_crossentropy)\n",
      "y_train_valid shape: (1609724, 9)\n",
      "y_train shape: (1287779, 9)\n",
      "y_valid shape: (321945, 9)\n",
      "y_test shape: (402432, 9)\n"
     ]
    }
   ],
   "source": [
    "import keras\n",
    "from keras.preprocessing import sequence\n",
    "from keras.models import Sequential\n",
    "from keras.layers import Dense, Embedding, Dropout, Activation\n",
    "from keras.layers import LSTM\n",
    "from keras.layers.convolutional import Conv1D\n",
    "from keras.layers.convolutional import MaxPooling1D\n",
    "from keras.models import load_model\n",
    "\n",
    "max_features = num_words # 20000\n",
    "feature_len = FEATURE_LEN # avg_feature_len # cut texts after this number of words (among top max_features most common words)\n",
    "batch_size = 32\n",
    "\n",
    "print(len(X_train_valid), 'train+valid sequences')\n",
    "print(len(X_train), 'train sequences')\n",
    "print(len(X_valid), 'valid sequences')\n",
    "print(len(X_test), 'test sequences')\n",
    "\n",
    "print('Pad sequences (samples x time)')\n",
    "X_train_valid = sequence.pad_sequences(X_train_valid, maxlen=feature_len)\n",
    "X_train = sequence.pad_sequences(X_train, maxlen=feature_len)\n",
    "X_valid = sequence.pad_sequences(X_valid, maxlen=feature_len)\n",
    "X_test = sequence.pad_sequences(X_test, maxlen=feature_len)\n",
    "print('X_train_valid shape:', X_train_valid.shape)\n",
    "print('X_train shape:', X_train.shape)\n",
    "print('X_valid shape:', X_valid.shape)\n",
    "print('X_test shape:', X_test.shape)\n",
    "\n",
    "n_classes = np.max(y_train_valid) + 1\n",
    "print(n_classes, 'classes')\n",
    "\n",
    "print('Convert class vector to binary class matrix '\n",
    "      '(for use with categorical_crossentropy)')\n",
    "y_train_valid = keras.utils.to_categorical(y_train_valid, n_classes)\n",
    "y_train = keras.utils.to_categorical(y_train, n_classes)\n",
    "y_valid = keras.utils.to_categorical(y_valid, n_classes)\n",
    "y_test = keras.utils.to_categorical(y_test, n_classes)\n",
    "print('y_train_valid shape:', y_train_valid.shape)\n",
    "print('y_train shape:', y_train.shape)\n",
    "print('y_valid shape:', y_valid.shape)\n",
    "print('y_test shape:', y_test.shape)"
   ]
  },
  {
   "cell_type": "code",
   "execution_count": 14,
   "metadata": {},
   "outputs": [],
   "source": [
    "def create_model():\n",
    "    print('Build model...')\n",
    "\n",
    "    model = Sequential()\n",
    "    model.add(Embedding(num_words, 32, input_length=feature_len))\n",
    "    model.add(LSTM(128, dropout=0.2, recurrent_dropout=0.2))\n",
    "    model.add(Dense(n_classes, activation='softmax'))\n",
    "\n",
    "    # try using different optimizers and different optimizer configs\n",
    "    model.compile(loss='categorical_crossentropy',\n",
    "                  optimizer='adam',\n",
    "                  metrics=['accuracy'])\n",
    "\n",
    "    #print(model.summary())\n",
    "    return model"
   ]
  },
  {
   "cell_type": "raw",
   "metadata": {},
   "source": [
    "print('Train...')\n",
    "model.fit(X_train, y_train, batch_size=batch_size, epochs=EPOCHS,\n",
    "          validation_split=0.1, verbose=1)\n",
    "score, acc = model.evaluate(X_test, y_test,\n",
    "                            batch_size=batch_size, verbose=1)\n",
    "print('Test score:', score)\n",
    "print('Test accuracy:', acc)"
   ]
  },
  {
   "cell_type": "code",
   "execution_count": 15,
   "metadata": {},
   "outputs": [],
   "source": [
    "import matplotlib.pyplot as plt\n",
    "\n",
    "from keras.wrappers.scikit_learn import KerasClassifier\n",
    "from sklearn.calibration import CalibratedClassifierCV, calibration_curve\n",
    "from sklearn.metrics import (brier_score_loss, precision_score, recall_score,\n",
    "                             f1_score, log_loss)\n",
    "from sklearn.linear_model import LogisticRegression"
   ]
  },
  {
   "cell_type": "code",
   "execution_count": 16,
   "metadata": {},
   "outputs": [
    {
     "name": "stdout",
     "output_type": "stream",
     "text": [
      "Build model...\n"
     ]
    },
    {
     "name": "stderr",
     "output_type": "stream",
     "text": [
      "/opt/venv37/lib/python3.7/site-packages/tensorflow_core/python/framework/indexed_slices.py:433: UserWarning: Converting sparse IndexedSlices to a dense Tensor of unknown shape. This may consume a large amount of memory.\n",
      "  \"Converting sparse IndexedSlices to a dense Tensor of unknown shape. \"\n"
     ]
    },
    {
     "name": "stdout",
     "output_type": "stream",
     "text": [
      "Epoch 1/5\n",
      "1609724/1609724 [==============================] - 6847s 4ms/step - loss: 0.1714 - accuracy: 0.9446\n",
      "Epoch 2/5\n",
      "1609724/1609724 [==============================] - 6853s 4ms/step - loss: 0.1447 - accuracy: 0.9520\n",
      "Epoch 3/5\n",
      "1609724/1609724 [==============================] - 6840s 4ms/step - loss: 0.1378 - accuracy: 0.9541\n",
      "Epoch 4/5\n",
      "1609724/1609724 [==============================] - 6784s 4ms/step - loss: 0.1346 - accuracy: 0.9551\n",
      "Epoch 5/5\n",
      "1609724/1609724 [==============================] - 6868s 4ms/step - loss: 0.1322 - accuracy: 0.9558\n",
      "402432/402432 [==============================] - 527s 1ms/step\n"
     ]
    }
   ],
   "source": [
    "# Train uncalibrated random forest classifier on whole train and validation\n",
    "# data and evaluate on test data\n",
    "\n",
    "clf = KerasClassifier(build_fn=create_model, epochs=EPOCHS, batch_size=batch_size, verbose=1)\n",
    "clf.fit(X_train_valid, y_train_valid)\n",
    "clf_probs = clf.predict_proba(X_test)\n",
    "score = log_loss(y_test, clf_probs)"
   ]
  },
  {
   "cell_type": "code",
   "execution_count": 17,
   "metadata": {},
   "outputs": [
    {
     "name": "stdout",
     "output_type": "stream",
     "text": [
      "Build model...\n"
     ]
    },
    {
     "name": "stderr",
     "output_type": "stream",
     "text": [
      "/opt/venv37/lib/python3.7/site-packages/tensorflow_core/python/framework/indexed_slices.py:433: UserWarning: Converting sparse IndexedSlices to a dense Tensor of unknown shape. This may consume a large amount of memory.\n",
      "  \"Converting sparse IndexedSlices to a dense Tensor of unknown shape. \"\n"
     ]
    },
    {
     "name": "stdout",
     "output_type": "stream",
     "text": [
      "Epoch 1/5\n",
      "1287779/1287779 [==============================] - 5577s 4ms/step - loss: 0.1748 - accuracy: 0.9436\n",
      "Epoch 2/5\n",
      "1287779/1287779 [==============================] - 5497s 4ms/step - loss: 0.1475 - accuracy: 0.9510\n",
      "Epoch 3/5\n",
      "1287779/1287779 [==============================] - 5713s 4ms/step - loss: 0.1395 - accuracy: 0.9534\n",
      "Epoch 4/5\n",
      "1287779/1287779 [==============================] - 6778s 5ms/step - loss: 0.1353 - accuracy: 0.9549\n",
      "Epoch 5/5\n",
      "1287779/1287779 [==============================] - 6921s 5ms/step - loss: 0.1349 - accuracy: 0.9548\n",
      "402432/402432 [==============================] - 524s 1ms/step\n"
     ]
    }
   ],
   "source": [
    "# Train random forest classifier, calibrate on validation data and evaluate\n",
    "# on test data\n",
    "clf = KerasClassifier(build_fn=create_model, epochs=EPOCHS, batch_size=batch_size, verbose=1)\n",
    "clf.fit(X_train, y_train)\n",
    "clf_probs = clf.predict_proba(X_test)"
   ]
  },
  {
   "cell_type": "code",
   "execution_count": 18,
   "metadata": {},
   "outputs": [
    {
     "data": {
      "text/plain": [
       "((1287779, 128), (1287779, 9), (321945, 128), (321945, 9))"
      ]
     },
     "execution_count": 18,
     "metadata": {},
     "output_type": "execute_result"
    }
   ],
   "source": [
    "X_train.shape, y_train.shape, X_valid.shape, y_valid.shape"
   ]
  },
  {
   "cell_type": "code",
   "execution_count": null,
   "metadata": {},
   "outputs": [
    {
     "name": "stdout",
     "output_type": "stream",
     "text": [
      "321945/321945 [==============================] - 420s 1ms/step\n",
      "135296/402432 [=========>....................] - ETA: 5:47"
     ]
    }
   ],
   "source": [
    "sig_clf = CalibratedClassifierCV(clf, method=\"isotonic\", cv=\"prefit\")\n",
    "sig_clf.fit(X_valid, np.argmax(y_valid, axis=1))\n",
    "sig_clf_probs = sig_clf.predict_proba(X_test)\n",
    "sig_score = log_loss(y_test, sig_clf_probs)"
   ]
  },
  {
   "cell_type": "code",
   "execution_count": 20,
   "metadata": {},
   "outputs": [
    {
     "data": {
      "text/plain": [
       "(0.12585416363862198, 0.17057041644045084)"
      ]
     },
     "execution_count": 20,
     "metadata": {},
     "output_type": "execute_result"
    }
   ],
   "source": [
    "score, sig_score"
   ]
  },
  {
   "cell_type": "code",
   "execution_count": 21,
   "metadata": {},
   "outputs": [
    {
     "name": "stdout",
     "output_type": "stream",
     "text": [
      "402432/402432 [==============================] - 519s 1ms/step\n"
     ]
    }
   ],
   "source": [
    "sig_clf_pred = sig_clf.predict(X_test)"
   ]
  },
  {
   "cell_type": "code",
   "execution_count": 22,
   "metadata": {},
   "outputs": [
    {
     "name": "stdout",
     "output_type": "stream",
     "text": [
      "\tPrecision: 0.740\n",
      "\tRecall: 0.527\n",
      "\tF1: 0.604\n",
      "\n"
     ]
    }
   ],
   "source": [
    "print(\"\\tPrecision: %1.3f\" % precision_score(np.argmax(y_test, axis=1), sig_clf_pred, average='macro'))\n",
    "print(\"\\tRecall: %1.3f\" % recall_score(np.argmax(y_test, axis=1), sig_clf_pred, average='macro'))\n",
    "print(\"\\tF1: %1.3f\\n\" % f1_score(np.argmax(y_test, axis=1), sig_clf_pred, average='macro'))\n",
    "\n",
    "fraction_of_positives, mean_predicted_value = \\\n",
    "    calibration_curve(y_test[:, 0], sig_clf_probs[:, 0], n_bins=10)"
   ]
  },
  {
   "cell_type": "code",
   "execution_count": 23,
   "metadata": {},
   "outputs": [
    {
     "name": "stdout",
     "output_type": "stream",
     "text": [
      "402432/402432 [==============================] - 518s 1ms/step\n"
     ]
    }
   ],
   "source": [
    "clf_pred = clf.predict(X_test)"
   ]
  },
  {
   "cell_type": "code",
   "execution_count": 24,
   "metadata": {},
   "outputs": [
    {
     "name": "stdout",
     "output_type": "stream",
     "text": [
      "\tPrecision: 0.719\n",
      "\tRecall: 0.549\n",
      "\tF1: 0.608\n",
      "\n"
     ]
    }
   ],
   "source": [
    "print(\"\\tPrecision: %1.3f\" % precision_score(np.argmax(y_test, axis=1), clf_pred, average='macro'))\n",
    "print(\"\\tRecall: %1.3f\" % recall_score(np.argmax(y_test, axis=1), clf_pred, average='macro'))\n",
    "print(\"\\tF1: %1.3f\\n\" % f1_score(np.argmax(y_test, axis=1), clf_pred, average='macro'))\n",
    "\n",
    "fraction_of_positives, mean_predicted_value = \\\n",
    "    calibration_curve(y_test[:, 0], clf_probs[:, 0], n_bins=10)"
   ]
  },
  {
   "cell_type": "markdown",
   "metadata": {},
   "source": [
    "## Confusion Matrix"
   ]
  },
  {
   "cell_type": "code",
   "execution_count": 34,
   "metadata": {},
   "outputs": [
    {
     "name": "stdout",
     "output_type": "stream",
     "text": [
      "402432/402432 [==============================] - 537s 1ms/step\n"
     ]
    }
   ],
   "source": [
    "y_pred = clf.predict(X_test)"
   ]
  },
  {
   "cell_type": "code",
   "execution_count": 35,
   "metadata": {},
   "outputs": [
    {
     "name": "stdout",
     "output_type": "stream",
     "text": [
      "              precision    recall  f1-score   support\n",
      "\n",
      "       adult       0.97      0.99      0.98    374149\n",
      "        bank       0.67      0.55      0.60       338\n",
      "    gambling       0.39      0.56      0.46       202\n",
      "       games       0.83      0.46      0.59      1871\n",
      "     malware       0.92      0.49      0.64       893\n",
      "      others       0.56      0.25      0.34      4288\n",
      "    phishing       0.74      0.59      0.66     12543\n",
      "       press       0.80      0.53      0.64       882\n",
      "    shopping       0.59      0.52      0.55      7266\n",
      "\n",
      "    accuracy                           0.96    402432\n",
      "   macro avg       0.72      0.55      0.61    402432\n",
      "weighted avg       0.95      0.96      0.95    402432\n",
      "\n",
      "[[370705     22    107     72     11    448   1336     50   1398]\n",
      " [    69    185      1      0      0     19     46      0     18]\n",
      " [    47      0    113      3      0      1     20      1     17]\n",
      " [   711      2      9    859      0     72    113      1    104]\n",
      " [   220      5      0      1    441     19    160      4     43]\n",
      " [  2403     14      8     20      4   1067    394     13    365]\n",
      " [  4087     40     48     41     20    187   7437     26    657]\n",
      " [   227      0      0      1      1     19    103    467     64]\n",
      " [  2884      9      2     33      0     88    436     23   3791]]\n"
     ]
    }
   ],
   "source": [
    "target_names = list(sdf.blacklists_cat.astype('category').cat.categories)\n",
    "print(classification_report(np.argmax(y_test, axis=1), y_pred, target_names=target_names))\n",
    "print(confusion_matrix(np.argmax(y_test, axis=1), y_pred))"
   ]
  },
  {
   "cell_type": "code",
   "execution_count": 36,
   "metadata": {},
   "outputs": [
    {
     "name": "stdout",
     "output_type": "stream",
     "text": [
      "402432/402432 [==============================] - 535s 1ms/step\n"
     ]
    }
   ],
   "source": [
    "sig_y_pred = sig_clf.predict(X_test)"
   ]
  },
  {
   "cell_type": "code",
   "execution_count": 37,
   "metadata": {},
   "outputs": [
    {
     "name": "stdout",
     "output_type": "stream",
     "text": [
      "              precision    recall  f1-score   support\n",
      "\n",
      "       adult       0.97      0.99      0.98    374149\n",
      "        bank       0.70      0.53      0.60       338\n",
      "    gambling       0.43      0.47      0.44       202\n",
      "       games       0.86      0.45      0.59      1871\n",
      "     malware       0.92      0.49      0.64       893\n",
      "      others       0.56      0.25      0.35      4288\n",
      "    phishing       0.75      0.58      0.66     12543\n",
      "       press       0.84      0.50      0.63       882\n",
      "    shopping       0.63      0.48      0.54      7266\n",
      "\n",
      "    accuracy                           0.96    402432\n",
      "   macro avg       0.74      0.53      0.60    402432\n",
      "weighted avg       0.95      0.96      0.95    402432\n",
      "\n",
      "[[370705     22    107     72     11    448   1336     50   1398]\n",
      " [    69    185      1      0      0     19     46      0     18]\n",
      " [    47      0    113      3      0      1     20      1     17]\n",
      " [   711      2      9    859      0     72    113      1    104]\n",
      " [   220      5      0      1    441     19    160      4     43]\n",
      " [  2403     14      8     20      4   1067    394     13    365]\n",
      " [  4087     40     48     41     20    187   7437     26    657]\n",
      " [   227      0      0      1      1     19    103    467     64]\n",
      " [  2884      9      2     33      0     88    436     23   3791]]\n"
     ]
    }
   ],
   "source": [
    "target_names = list(sdf.blacklists_cat.astype('category').cat.categories)\n",
    "print(classification_report(np.argmax(y_test, axis=1), sig_y_pred, target_names=target_names))\n",
    "print(confusion_matrix(np.argmax(y_test, axis=1), y_pred))"
   ]
  },
  {
   "cell_type": "code",
   "execution_count": 46,
   "metadata": {},
   "outputs": [],
   "source": [
    "def brier_multi(targets, probs):\n",
    "    return np.mean(np.sum((probs - targets)**2, axis=1))"
   ]
  },
  {
   "cell_type": "code",
   "execution_count": 48,
   "metadata": {},
   "outputs": [
    {
     "data": {
      "text/plain": [
       "0.060490668"
      ]
     },
     "execution_count": 48,
     "metadata": {},
     "output_type": "execute_result"
    }
   ],
   "source": [
    "brier_multi(y_test, clf_probs)"
   ]
  },
  {
   "cell_type": "code",
   "execution_count": 49,
   "metadata": {},
   "outputs": [
    {
     "data": {
      "text/plain": [
       "0.06791789683460298"
      ]
     },
     "execution_count": 49,
     "metadata": {},
     "output_type": "execute_result"
    }
   ],
   "source": [
    "brier_multi(y_test, sig_clf_probs)"
   ]
  },
  {
   "cell_type": "code",
   "execution_count": 76,
   "metadata": {},
   "outputs": [
    {
     "name": "stdout",
     "output_type": "stream",
     "text": [
      "LSTM:\n",
      "\tBrier: 0.022\n",
      "\tPrecision: 0.972\n",
      "\tRecall: 0.991\n",
      "\tF1: 0.981\n",
      "\n",
      "LSTM:\n",
      "\tBrier: 0.001\n",
      "\tPrecision: 0.925\n",
      "\tRecall: 0.494\n",
      "\tF1: 0.644\n",
      "\n",
      "LSTM:\n",
      "\tBrier: 0.014\n",
      "\tPrecision: 0.740\n",
      "\tRecall: 0.593\n",
      "\tF1: 0.658\n",
      "\n",
      "LSTM + sigmoid:\n",
      "\tBrier: 0.027\n",
      "\tPrecision: 0.970\n",
      "\tRecall: 0.992\n",
      "\tF1: 0.981\n",
      "\n",
      "LSTM + sigmoid:\n",
      "\tBrier: 0.001\n",
      "\tPrecision: 0.921\n",
      "\tRecall: 0.494\n",
      "\tF1: 0.643\n",
      "\n",
      "LSTM + sigmoid:\n",
      "\tBrier: 0.015\n",
      "\tPrecision: 0.753\n",
      "\tRecall: 0.584\n",
      "\tF1: 0.658\n",
      "\n"
     ]
    },
    {
     "data": {
      "image/png": "[encoded data removed]",
      "text/plain": [
       "<Figure size 720x720 with 2 Axes>"
      ]
     },
     "metadata": {
      "needs_background": "light"
     },
     "output_type": "display_data"
    }
   ],
   "source": [
    "fig_index = 1\n",
    "\n",
    "fig = plt.figure(fig_index, figsize=(10, 10))\n",
    "ax1 = plt.subplot2grid((3, 1), (0, 0), rowspan=2)\n",
    "ax2 = plt.subplot2grid((3, 1), (2, 0))\n",
    "\n",
    "ax1.plot([0, 1], [0, 1], \"k:\", label=\"Perfectly calibrated\")\n",
    "\n",
    "for name, prob_pos, y_test2, y_pred2, target in [('LSTM', clf_probs, y_test, y_pred, 'adult'),\n",
    "                                                 ('LSTM', clf_probs, y_test, y_pred, 'malware'),\n",
    "                                                 ('LSTM', clf_probs, y_test, y_pred, 'phishing'),\n",
    "                                                 ('LSTM + sigmoid', sig_clf_probs, y_test, sig_y_pred, 'adult'),\n",
    "                                                 ('LSTM + sigmoid', sig_clf_probs, y_test, sig_y_pred, 'malware'),\n",
    "                                                 ('LSTM + sigmoid', sig_clf_probs, y_test, sig_y_pred, 'phishing')]:\n",
    "    i = target_names.index(target)\n",
    "    clf_score = brier_score_loss(y_test2[:, i], prob_pos[:, i], pos_label=y_test2.max())\n",
    "    print(\"%s:\" % name)\n",
    "    print(\"\\tBrier: %1.3f\" % (clf_score))\n",
    "    print(\"\\tPrecision: %1.3f\" % precision_score(y_test2[:, i], y_pred2==i))\n",
    "    print(\"\\tRecall: %1.3f\" % recall_score(y_test2[:, i], y_pred2==i))\n",
    "    print(\"\\tF1: %1.3f\\n\" % f1_score(y_test2[:, i], y_pred2==i))\n",
    "\n",
    "    fraction_of_positives, mean_predicted_value = \\\n",
    "        calibration_curve(y_test2[:, i], prob_pos[:, i], n_bins=10)\n",
    "\n",
    "    ax1.plot(mean_predicted_value, fraction_of_positives, \"s-\",\n",
    "             label=\"%s (%1.3f) [%s]\" % (name, clf_score, target))\n",
    "\n",
    "    ax2.hist(prob_pos[:, i], range=(0, 1), bins=10, label='%s [%s]' % (name, target),\n",
    "             histtype=\"step\", lw=2)\n",
    "\n",
    "ax1.set_ylabel(\"Fraction of positives\")\n",
    "ax1.set_ylim([-0.05, 1.05])\n",
    "ax1.legend(loc=\"lower right\")\n",
    "ax1.set_title('Calibration plots  (reliability curve)')\n",
    "\n",
    "ax2.set_xlabel(\"Mean predicted value\")\n",
    "ax2.set_ylabel(\"Count\")\n",
    "ax2.legend(loc=\"upper center\", ncol=2)\n",
    "\n",
    "plt.tight_layout()"
   ]
  },
  {
   "cell_type": "markdown",
   "metadata": {},
   "source": [
    "## Save model"
   ]
  },
  {
   "cell_type": "raw",
   "metadata": {},
   "source": [
    "model.save('./models/toulouse_cat_lstm_others_2017.h5')\n",
    "words_df = pd.DataFrame(words_list, columns=['vocab'])\n",
    "words_df.to_csv('./models/toulouse_cat_vocab_others_2017.csv', index=False, encoding='utf-8')\n",
    "pd.DataFrame(target_names, columns=['toulouse_cat']).to_csv('./models/toulouse_cat_names_others_2017.csv', index=False)"
   ]
  },
  {
   "cell_type": "code",
   "execution_count": 79,
   "metadata": {},
   "outputs": [],
   "source": [
    "y_score = clf_probs"
   ]
  },
  {
   "cell_type": "code",
   "execution_count": 81,
   "metadata": {},
   "outputs": [
    {
     "name": "stderr",
     "output_type": "stream",
     "text": [
      "/opt/venv37/lib/python3.7/site-packages/ipykernel_launcher.py:29: DeprecationWarning: scipy.interp is deprecated and will be removed in SciPy 2.0.0, use numpy.interp instead\n"
     ]
    },
    {
     "data": {
      "image/png": "[encoded data removed]",
      "text/plain": [
       "<Figure size 864x576 with 1 Axes>"
      ]
     },
     "metadata": {
      "needs_background": "light"
     },
     "output_type": "display_data"
    }
   ],
   "source": [
    "import numpy as np\n",
    "from scipy import interp\n",
    "import matplotlib.pyplot as plt\n",
    "from itertools import cycle\n",
    "from sklearn.metrics import roc_curve, auc\n",
    "\n",
    "# Plot linewidth.\n",
    "lw = 2\n",
    "\n",
    "# Compute ROC curve and ROC area for each class\n",
    "fpr = dict()\n",
    "tpr = dict()\n",
    "roc_auc = dict()\n",
    "for i in range(n_classes):\n",
    "    fpr[i], tpr[i], _ = roc_curve(y_test[:, i], y_score[:, i])\n",
    "    roc_auc[i] = auc(fpr[i], tpr[i])\n",
    "# Compute micro-average ROC curve and ROC area\n",
    "fpr[\"micro\"], tpr[\"micro\"], _ = roc_curve(y_test.ravel(), y_score.ravel())\n",
    "roc_auc[\"micro\"] = auc(fpr[\"micro\"], tpr[\"micro\"])\n",
    "\n",
    "# Compute macro-average ROC curve and ROC area\n",
    "\n",
    "# First aggregate all false positive rates\n",
    "all_fpr = np.unique(np.concatenate([fpr[i] for i in range(n_classes)]))\n",
    "\n",
    "# Then interpolate all ROC curves at this points\n",
    "mean_tpr = np.zeros_like(all_fpr)\n",
    "for i in range(n_classes):\n",
    "    mean_tpr += interp(all_fpr, fpr[i], tpr[i])\n",
    "\n",
    "# Finally average it and compute AUC\n",
    "mean_tpr /= n_classes\n",
    "\n",
    "fpr[\"macro\"] = all_fpr\n",
    "tpr[\"macro\"] = mean_tpr\n",
    "roc_auc[\"macro\"] = auc(fpr[\"macro\"], tpr[\"macro\"])\n",
    "\n",
    "# Plot all ROC curves\n",
    "fig = plt.figure(1, figsize=(12, 8))\n",
    "plt.plot(fpr[\"micro\"], tpr[\"micro\"],\n",
    "         label='micro-average ROC curve (area = {0:0.2f})'\n",
    "               ''.format(roc_auc[\"micro\"]),\n",
    "         color='deeppink', linestyle=':', linewidth=4)\n",
    "\n",
    "plt.plot(fpr[\"macro\"], tpr[\"macro\"],\n",
    "         label='macro-average ROC curve (area = {0:0.2f})'\n",
    "               ''.format(roc_auc[\"macro\"]),\n",
    "         color='navy', linestyle=':', linewidth=4)\n",
    "\n",
    "cmap = plt.get_cmap(\"tab10\")\n",
    "colors = cycle([cmap(i) for i in range(n_classes)])\n",
    "\n",
    "for i, color in zip(range(n_classes), colors):\n",
    "    plt.plot(fpr[i], tpr[i], color=color, lw=lw,\n",
    "             label='ROC curve of class {0} (area = {1:0.2f})'\n",
    "             ''.format(class_labels[i], roc_auc[i]))\n",
    "    if i >= 19:\n",
    "        break\n",
    "\n",
    "plt.plot([0, 1], [0, 1], 'k--', lw=lw)\n",
    "plt.xlim([0.0, 1.0])\n",
    "plt.ylim([0.0, 1.05])\n",
    "plt.xlabel('False Positive Rate')\n",
    "plt.ylabel('True Positive Rate')\n",
    "plt.title('ROC Curve -- Toulouse LSTM Model')\n",
    "plt.legend(loc=\"lower right\")\n",
    "plt.show()"
   ]
  },
  {
   "cell_type": "code",
   "execution_count": 82,
   "metadata": {},
   "outputs": [
    {
     "name": "stderr",
     "output_type": "stream",
     "text": [
      "The PostScript backend does not support transparency; partially transparent artists will be rendered opaque.\n",
      "The PostScript backend does not support transparency; partially transparent artists will be rendered opaque.\n"
     ]
    }
   ],
   "source": [
    "fig.savefig('./roc-toulouse-lstm.eps', format='eps', dpi=300, bbox_inches=\"tight\", orientation='landscape');"
   ]
  },
  {
   "cell_type": "code",
   "execution_count": null,
   "metadata": {},
   "outputs": [],
   "source": [
    "y_score = sig_clf_probs"
   ]
  },
  {
   "cell_type": "code",
   "execution_count": 83,
   "metadata": {},
   "outputs": [
    {
     "name": "stderr",
     "output_type": "stream",
     "text": [
      "/opt/venv37/lib/python3.7/site-packages/ipykernel_launcher.py:23: DeprecationWarning: scipy.interp is deprecated and will be removed in SciPy 2.0.0, use numpy.interp instead\n"
     ]
    },
    {
     "data": {
      "image/png": "[encoded data removed]",
      "text/plain": [
       "<Figure size 864x576 with 1 Axes>"
      ]
     },
     "metadata": {
      "needs_background": "light"
     },
     "output_type": "display_data"
    }
   ],
   "source": [
    "# Plot linewidth.\n",
    "lw = 2\n",
    "\n",
    "# Compute ROC curve and ROC area for each class\n",
    "fpr = dict()\n",
    "tpr = dict()\n",
    "roc_auc = dict()\n",
    "for i in range(n_classes):\n",
    "    fpr[i], tpr[i], _ = roc_curve(y_test[:, i], y_score[:, i])\n",
    "    roc_auc[i] = auc(fpr[i], tpr[i])\n",
    "# Compute micro-average ROC curve and ROC area\n",
    "fpr[\"micro\"], tpr[\"micro\"], _ = roc_curve(y_test.ravel(), y_score.ravel())\n",
    "roc_auc[\"micro\"] = auc(fpr[\"micro\"], tpr[\"micro\"])\n",
    "\n",
    "# Compute macro-average ROC curve and ROC area\n",
    "\n",
    "# First aggregate all false positive rates\n",
    "all_fpr = np.unique(np.concatenate([fpr[i] for i in range(n_classes)]))\n",
    "\n",
    "# Then interpolate all ROC curves at this points\n",
    "mean_tpr = np.zeros_like(all_fpr)\n",
    "for i in range(n_classes):\n",
    "    mean_tpr += interp(all_fpr, fpr[i], tpr[i])\n",
    "\n",
    "# Finally average it and compute AUC\n",
    "mean_tpr /= n_classes\n",
    "\n",
    "fpr[\"macro\"] = all_fpr\n",
    "tpr[\"macro\"] = mean_tpr\n",
    "roc_auc[\"macro\"] = auc(fpr[\"macro\"], tpr[\"macro\"])\n",
    "\n",
    "# Plot all ROC curves\n",
    "fig = plt.figure(1, figsize=(12, 8))\n",
    "plt.plot(fpr[\"micro\"], tpr[\"micro\"],\n",
    "         label='micro-average ROC curve (area = {0:0.2f})'\n",
    "               ''.format(roc_auc[\"micro\"]),\n",
    "         color='deeppink', linestyle=':', linewidth=4)\n",
    "\n",
    "plt.plot(fpr[\"macro\"], tpr[\"macro\"],\n",
    "         label='macro-average ROC curve (area = {0:0.2f})'\n",
    "               ''.format(roc_auc[\"macro\"]),\n",
    "         color='navy', linestyle=':', linewidth=4)\n",
    "\n",
    "cmap = plt.get_cmap(\"tab10\")\n",
    "colors = cycle([cmap(i) for i in range(n_classes)])\n",
    "\n",
    "for i, color in zip(range(n_classes), colors):\n",
    "    plt.plot(fpr[i], tpr[i], color=color, lw=lw,\n",
    "             label='ROC curve of class {0} (area = {1:0.2f})'\n",
    "             ''.format(class_labels[i], roc_auc[i]))\n",
    "    if i >= 19:\n",
    "        break\n",
    "\n",
    "plt.plot([0, 1], [0, 1], 'k--', lw=lw)\n",
    "plt.xlim([0.0, 1.0])\n",
    "plt.ylim([0.0, 1.05])\n",
    "plt.xlabel('False Positive Rate')\n",
    "plt.ylabel('True Positive Rate')\n",
    "plt.title('ROC Curve -- Toulouse LSTM Model (Calibrated)')\n",
    "plt.legend(loc=\"lower right\")\n",
    "plt.show()"
   ]
  },
  {
   "cell_type": "code",
   "execution_count": 84,
   "metadata": {},
   "outputs": [
    {
     "name": "stderr",
     "output_type": "stream",
     "text": [
      "The PostScript backend does not support transparency; partially transparent artists will be rendered opaque.\n",
      "The PostScript backend does not support transparency; partially transparent artists will be rendered opaque.\n"
     ]
    }
   ],
   "source": [
    "fig.savefig('./roc-toulouse-lstm-calibrated.eps', format='eps', dpi=300, bbox_inches=\"tight\", orientation='landscape');"
   ]
  }
 ],
 "metadata": {
  "kernelspec": {
   "display_name": "Python 3",
   "language": "python",
   "name": "python3"
  },
  "language_info": {
   "codemirror_mode": {
    "name": "ipython",
    "version": 3
   },
   "file_extension": ".py",
   "mimetype": "text/x-python",
   "name": "python",
   "nbconvert_exporter": "python",
   "pygments_lexer": "ipython3",
   "version": "3.7.7"
  }
 },
 "nbformat": 4,
 "nbformat_minor": 2
}
